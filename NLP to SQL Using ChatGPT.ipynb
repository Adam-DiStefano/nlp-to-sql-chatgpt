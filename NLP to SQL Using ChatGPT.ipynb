{
 "cells": [
  {
   "cell_type": "code",
   "execution_count": 12,
   "id": "0fb930a2",
   "metadata": {},
   "outputs": [],
   "source": [
    "#Step 1: Import Libraries\n",
    "#!pip install openai\n",
    "import openai\n",
    "import os\n",
    "import pandas as pd\n",
    "#!pip install sqlalchemy\n",
    "import sqlalchemy\n",
    "#Import these libraries to setup a temp DB in RAM and PUSH Pandas DF to DB\n",
    "from sqlalchemy import create_engine\n",
    "from sqlalchemy import text"
   ]
  },
  {
   "cell_type": "code",
   "execution_count": 13,
   "id": "b612ab8c",
   "metadata": {},
   "outputs": [],
   "source": [
    "with open('api.txt', 'r') as f:\n",
    "    openai.api_key = f.read().strip()"
   ]
  },
  {
   "cell_type": "code",
   "execution_count": 14,
   "id": "f39d7559",
   "metadata": {},
   "outputs": [],
   "source": [
    "#Read in data\n",
    "df = pd.read_csv(\"sales_data_sample.csv\")"
   ]
  },
  {
   "cell_type": "code",
   "execution_count": 15,
   "id": "099ce422",
   "metadata": {},
   "outputs": [
    {
     "data": {
      "text/html": [
       "<div>\n",
       "<style scoped>\n",
       "    .dataframe tbody tr th:only-of-type {\n",
       "        vertical-align: middle;\n",
       "    }\n",
       "\n",
       "    .dataframe tbody tr th {\n",
       "        vertical-align: top;\n",
       "    }\n",
       "\n",
       "    .dataframe thead th {\n",
       "        text-align: right;\n",
       "    }\n",
       "</style>\n",
       "<table border=\"1\" class=\"dataframe\">\n",
       "  <thead>\n",
       "    <tr style=\"text-align: right;\">\n",
       "      <th></th>\n",
       "      <th>ORDERNUMBER</th>\n",
       "      <th>QUANTITYORDERED</th>\n",
       "      <th>PRICEEACH</th>\n",
       "      <th>ORDERLINENUMBER</th>\n",
       "      <th>SALES</th>\n",
       "      <th>ORDERDATE</th>\n",
       "      <th>STATUS</th>\n",
       "      <th>QTR_ID</th>\n",
       "      <th>MONTH_ID</th>\n",
       "      <th>YEAR_ID</th>\n",
       "      <th>...</th>\n",
       "      <th>ADDRESSLINE1</th>\n",
       "      <th>ADDRESSLINE2</th>\n",
       "      <th>CITY</th>\n",
       "      <th>STATE</th>\n",
       "      <th>POSTALCODE</th>\n",
       "      <th>COUNTRY</th>\n",
       "      <th>TERRITORY</th>\n",
       "      <th>CONTACTLASTNAME</th>\n",
       "      <th>CONTACTFIRSTNAME</th>\n",
       "      <th>DEALSIZE</th>\n",
       "    </tr>\n",
       "  </thead>\n",
       "  <tbody>\n",
       "    <tr>\n",
       "      <th>0</th>\n",
       "      <td>10107</td>\n",
       "      <td>30</td>\n",
       "      <td>95.70</td>\n",
       "      <td>2</td>\n",
       "      <td>2871.00</td>\n",
       "      <td>2/24/2003 0:00</td>\n",
       "      <td>Shipped</td>\n",
       "      <td>1</td>\n",
       "      <td>2</td>\n",
       "      <td>2003</td>\n",
       "      <td>...</td>\n",
       "      <td>897 Long Airport Avenue</td>\n",
       "      <td>NaN</td>\n",
       "      <td>NYC</td>\n",
       "      <td>NY</td>\n",
       "      <td>10022</td>\n",
       "      <td>USA</td>\n",
       "      <td>NaN</td>\n",
       "      <td>Yu</td>\n",
       "      <td>Kwai</td>\n",
       "      <td>Small</td>\n",
       "    </tr>\n",
       "    <tr>\n",
       "      <th>1</th>\n",
       "      <td>10121</td>\n",
       "      <td>34</td>\n",
       "      <td>81.35</td>\n",
       "      <td>5</td>\n",
       "      <td>2765.90</td>\n",
       "      <td>5/7/2003 0:00</td>\n",
       "      <td>Shipped</td>\n",
       "      <td>2</td>\n",
       "      <td>5</td>\n",
       "      <td>2003</td>\n",
       "      <td>...</td>\n",
       "      <td>59 rue de l'Abbaye</td>\n",
       "      <td>NaN</td>\n",
       "      <td>Reims</td>\n",
       "      <td>NaN</td>\n",
       "      <td>51100</td>\n",
       "      <td>France</td>\n",
       "      <td>EMEA</td>\n",
       "      <td>Henriot</td>\n",
       "      <td>Paul</td>\n",
       "      <td>Small</td>\n",
       "    </tr>\n",
       "    <tr>\n",
       "      <th>2</th>\n",
       "      <td>10134</td>\n",
       "      <td>41</td>\n",
       "      <td>94.74</td>\n",
       "      <td>2</td>\n",
       "      <td>3884.34</td>\n",
       "      <td>7/1/2003 0:00</td>\n",
       "      <td>Shipped</td>\n",
       "      <td>3</td>\n",
       "      <td>7</td>\n",
       "      <td>2003</td>\n",
       "      <td>...</td>\n",
       "      <td>27 rue du Colonel Pierre Avia</td>\n",
       "      <td>NaN</td>\n",
       "      <td>Paris</td>\n",
       "      <td>NaN</td>\n",
       "      <td>75508</td>\n",
       "      <td>France</td>\n",
       "      <td>EMEA</td>\n",
       "      <td>Da Cunha</td>\n",
       "      <td>Daniel</td>\n",
       "      <td>Medium</td>\n",
       "    </tr>\n",
       "    <tr>\n",
       "      <th>3</th>\n",
       "      <td>10145</td>\n",
       "      <td>45</td>\n",
       "      <td>83.26</td>\n",
       "      <td>6</td>\n",
       "      <td>3746.70</td>\n",
       "      <td>8/25/2003 0:00</td>\n",
       "      <td>Shipped</td>\n",
       "      <td>3</td>\n",
       "      <td>8</td>\n",
       "      <td>2003</td>\n",
       "      <td>...</td>\n",
       "      <td>78934 Hillside Dr.</td>\n",
       "      <td>NaN</td>\n",
       "      <td>Pasadena</td>\n",
       "      <td>CA</td>\n",
       "      <td>90003</td>\n",
       "      <td>USA</td>\n",
       "      <td>NaN</td>\n",
       "      <td>Young</td>\n",
       "      <td>Julie</td>\n",
       "      <td>Medium</td>\n",
       "    </tr>\n",
       "    <tr>\n",
       "      <th>4</th>\n",
       "      <td>10159</td>\n",
       "      <td>49</td>\n",
       "      <td>100.00</td>\n",
       "      <td>14</td>\n",
       "      <td>5205.27</td>\n",
       "      <td>10/10/2003 0:00</td>\n",
       "      <td>Shipped</td>\n",
       "      <td>4</td>\n",
       "      <td>10</td>\n",
       "      <td>2003</td>\n",
       "      <td>...</td>\n",
       "      <td>7734 Strong St.</td>\n",
       "      <td>NaN</td>\n",
       "      <td>San Francisco</td>\n",
       "      <td>CA</td>\n",
       "      <td>NaN</td>\n",
       "      <td>USA</td>\n",
       "      <td>NaN</td>\n",
       "      <td>Brown</td>\n",
       "      <td>Julie</td>\n",
       "      <td>Medium</td>\n",
       "    </tr>\n",
       "  </tbody>\n",
       "</table>\n",
       "<p>5 rows × 25 columns</p>\n",
       "</div>"
      ],
      "text/plain": [
       "   ORDERNUMBER  QUANTITYORDERED  PRICEEACH  ORDERLINENUMBER    SALES  \\\n",
       "0        10107               30      95.70                2  2871.00   \n",
       "1        10121               34      81.35                5  2765.90   \n",
       "2        10134               41      94.74                2  3884.34   \n",
       "3        10145               45      83.26                6  3746.70   \n",
       "4        10159               49     100.00               14  5205.27   \n",
       "\n",
       "         ORDERDATE   STATUS  QTR_ID  MONTH_ID  YEAR_ID  ...  \\\n",
       "0   2/24/2003 0:00  Shipped       1         2     2003  ...   \n",
       "1    5/7/2003 0:00  Shipped       2         5     2003  ...   \n",
       "2    7/1/2003 0:00  Shipped       3         7     2003  ...   \n",
       "3   8/25/2003 0:00  Shipped       3         8     2003  ...   \n",
       "4  10/10/2003 0:00  Shipped       4        10     2003  ...   \n",
       "\n",
       "                    ADDRESSLINE1  ADDRESSLINE2           CITY STATE  \\\n",
       "0        897 Long Airport Avenue           NaN            NYC    NY   \n",
       "1             59 rue de l'Abbaye           NaN          Reims   NaN   \n",
       "2  27 rue du Colonel Pierre Avia           NaN          Paris   NaN   \n",
       "3             78934 Hillside Dr.           NaN       Pasadena    CA   \n",
       "4                7734 Strong St.           NaN  San Francisco    CA   \n",
       "\n",
       "  POSTALCODE COUNTRY TERRITORY CONTACTLASTNAME CONTACTFIRSTNAME DEALSIZE  \n",
       "0      10022     USA       NaN              Yu             Kwai    Small  \n",
       "1      51100  France      EMEA         Henriot             Paul    Small  \n",
       "2      75508  France      EMEA        Da Cunha           Daniel   Medium  \n",
       "3      90003     USA       NaN           Young            Julie   Medium  \n",
       "4        NaN     USA       NaN           Brown            Julie   Medium  \n",
       "\n",
       "[5 rows x 25 columns]"
      ]
     },
     "execution_count": 15,
     "metadata": {},
     "output_type": "execute_result"
    }
   ],
   "source": [
    "#Review data\n",
    "df.head()"
   ]
  },
  {
   "cell_type": "code",
   "execution_count": 16,
   "id": "91061742",
   "metadata": {},
   "outputs": [],
   "source": [
    "#Create temp DB\n",
    "temp_db = create_engine('sqlite:///memory:', echo = True)"
   ]
  },
  {
   "cell_type": "code",
   "execution_count": 21,
   "id": "81622c5c",
   "metadata": {},
   "outputs": [
    {
     "name": "stdout",
     "output_type": "stream",
     "text": [
      "2023-04-17 18:31:42,738 INFO sqlalchemy.engine.Engine BEGIN (implicit)\n",
      "2023-04-17 18:31:42,740 INFO sqlalchemy.engine.Engine PRAGMA main.table_info(\"sales_table\")\n",
      "2023-04-17 18:31:42,741 INFO sqlalchemy.engine.Engine [raw sql] ()\n",
      "2023-04-17 18:31:42,743 INFO sqlalchemy.engine.Engine PRAGMA temp.table_info(\"sales_table\")\n",
      "2023-04-17 18:31:42,745 INFO sqlalchemy.engine.Engine [raw sql] ()\n",
      "2023-04-17 18:31:42,747 INFO sqlalchemy.engine.Engine ROLLBACK\n",
      "2023-04-17 18:31:42,753 INFO sqlalchemy.engine.Engine BEGIN (implicit)\n",
      "2023-04-17 18:31:42,756 INFO sqlalchemy.engine.Engine \n",
      "CREATE TABLE sales_table (\n",
      "\t\"index\" BIGINT, \n",
      "\t\"ORDERNUMBER\" BIGINT, \n",
      "\t\"QUANTITYORDERED\" BIGINT, \n",
      "\t\"PRICEEACH\" FLOAT, \n",
      "\t\"ORDERLINENUMBER\" BIGINT, \n",
      "\t\"SALES\" FLOAT, \n",
      "\t\"ORDERDATE\" TEXT, \n",
      "\t\"STATUS\" TEXT, \n",
      "\t\"QTR_ID\" BIGINT, \n",
      "\t\"MONTH_ID\" BIGINT, \n",
      "\t\"YEAR_ID\" BIGINT, \n",
      "\t\"PRODUCTLINE\" TEXT, \n",
      "\t\"MSRP\" BIGINT, \n",
      "\t\"PRODUCTCODE\" TEXT, \n",
      "\t\"CUSTOMERNAME\" TEXT, \n",
      "\t\"PHONE\" TEXT, \n",
      "\t\"ADDRESSLINE1\" TEXT, \n",
      "\t\"ADDRESSLINE2\" TEXT, \n",
      "\t\"CITY\" TEXT, \n",
      "\t\"STATE\" TEXT, \n",
      "\t\"POSTALCODE\" TEXT, \n",
      "\t\"COUNTRY\" TEXT, \n",
      "\t\"TERRITORY\" TEXT, \n",
      "\t\"CONTACTLASTNAME\" TEXT, \n",
      "\t\"CONTACTFIRSTNAME\" TEXT, \n",
      "\t\"DEALSIZE\" TEXT\n",
      ")\n",
      "\n",
      "\n",
      "2023-04-17 18:31:42,757 INFO sqlalchemy.engine.Engine [no key 0.00175s] ()\n",
      "2023-04-17 18:31:42,762 INFO sqlalchemy.engine.Engine CREATE INDEX ix_sales_table_index ON sales_table (\"index\")\n",
      "2023-04-17 18:31:42,764 INFO sqlalchemy.engine.Engine [no key 0.00125s] ()\n",
      "2023-04-17 18:31:42,769 INFO sqlalchemy.engine.Engine COMMIT\n",
      "2023-04-17 18:31:42,779 INFO sqlalchemy.engine.Engine BEGIN (implicit)\n",
      "2023-04-17 18:31:42,835 INFO sqlalchemy.engine.Engine INSERT INTO sales_table (\"index\", \"ORDERNUMBER\", \"QUANTITYORDERED\", \"PRICEEACH\", \"ORDERLINENUMBER\", \"SALES\", \"ORDERDATE\", \"STATUS\", \"QTR_ID\", \"MONTH_ID\", \"YEAR_ID\", \"PRODUCTLINE\", \"MSRP\", \"PRODUCTCODE\", \"CUSTOMERNAME\", \"PHONE\", \"ADDRESSLINE1\", \"ADDRESSLINE2\", \"CITY\", \"STATE\", \"POSTALCODE\", \"COUNTRY\", \"TERRITORY\", \"CONTACTLASTNAME\", \"CONTACTFIRSTNAME\", \"DEALSIZE\") VALUES (?, ?, ?, ?, ?, ?, ?, ?, ?, ?, ?, ?, ?, ?, ?, ?, ?, ?, ?, ?, ?, ?, ?, ?, ?, ?)\n",
      "2023-04-17 18:31:42,836 INFO sqlalchemy.engine.Engine [generated in 0.04401s] [(0, 10107, 30, 95.7, 2, 2871.0, '2/24/2003 0:00', 'Shipped', 1, 2, 2003, 'Motorcycles', 95, 'S10_1678', 'Land of Toys Inc.', '2125557818', '897 Long Airport Avenue', None, 'NYC', 'NY', '10022', 'USA', None, 'Yu', 'Kwai', 'Small'), (1, 10121, 34, 81.35, 5, 2765.9, '5/7/2003 0:00', 'Shipped', 2, 5, 2003, 'Motorcycles', 95, 'S10_1678', 'Reims Collectables', '26.47.1555', \"59 rue de l'Abbaye\", None, 'Reims', None, '51100', 'France', 'EMEA', 'Henriot', 'Paul', 'Small'), (2, 10134, 41, 94.74, 2, 3884.34, '7/1/2003 0:00', 'Shipped', 3, 7, 2003, 'Motorcycles', 95, 'S10_1678', 'Lyon Souveniers', '+33 1 46 62 7555', '27 rue du Colonel Pierre Avia', None, 'Paris', None, '75508', 'France', 'EMEA', 'Da Cunha', 'Daniel', 'Medium'), (3, 10145, 45, 83.26, 6, 3746.7, '8/25/2003 0:00', 'Shipped', 3, 8, 2003, 'Motorcycles', 95, 'S10_1678', 'Toys4GrownUps.com', '6265557265', '78934 Hillside Dr.', None, 'Pasadena', 'CA', '90003', 'USA', None, 'Young', 'Julie', 'Medium'), (4, 10159, 49, 100.0, 14, 5205.27, '10/10/2003 0:00', 'Shipped', 4, 10, 2003, 'Motorcycles', 95, 'S10_1678', 'Corporate Gift Ideas Co.', '6505551386', '7734 Strong St.', None, 'San Francisco', 'CA', None, 'USA', None, 'Brown', 'Julie', 'Medium'), (5, 10168, 36, 96.66, 1, 3479.76, '10/28/2003 0:00', 'Shipped', 4, 10, 2003, 'Motorcycles', 95, 'S10_1678', 'Technics Stores Inc.', '6505556809', '9408 Furth Circle', None, 'Burlingame', 'CA', '94217', 'USA', None, 'Hirano', 'Juri', 'Medium'), (6, 10180, 29, 86.13, 9, 2497.77, '11/11/2003 0:00', 'Shipped', 4, 11, 2003, 'Motorcycles', 95, 'S10_1678', 'Daedalus Designs Imports', '20.16.1555', '184, chausse de Tournai', None, 'Lille', None, '59000', 'France', 'EMEA', 'Rance', 'Martine', 'Small'), (7, 10188, 48, 100.0, 1, 5512.32, '11/18/2003 0:00', 'Shipped', 4, 11, 2003, 'Motorcycles', 95, 'S10_1678', 'Herkku Gifts', '+47 2267 3215', 'Drammen 121, PR 744 Sentrum', None, 'Bergen', None, 'N 5804', 'Norway', 'EMEA', 'Oeztan', 'Veysel', 'Medium')  ... displaying 10 of 2823 total bound parameter sets ...  (2821, 10397, 34, 62.24, 1, 2116.16, '3/28/2005 0:00', 'Shipped', 1, 3, 2005, 'Ships', 54, 'S72_3212', 'Alpha Cognac', '61.77.6555', '1 rue Alsace-Lorraine', None, 'Toulouse', None, '31000', 'France', 'EMEA', 'Roulet', 'Annette', 'Small'), (2822, 10414, 47, 65.52, 9, 3079.44, '5/6/2005 0:00', 'On Hold', 2, 5, 2005, 'Ships', 54, 'S72_3212', 'Gifts4AllAges.com', '6175559555', '8616 Spinnaker Dr.', None, 'Boston', 'MA', '51003', 'USA', None, 'Yoshido', 'Juri', 'Medium')]\n",
      "2023-04-17 18:31:42,863 INFO sqlalchemy.engine.Engine COMMIT\n"
     ]
    }
   ],
   "source": [
    "#Push the DF to be in SQL DB\n",
    "data = df.to_sql(name = \"sales_table\", con = temp_db)"
   ]
  },
  {
   "cell_type": "code",
   "execution_count": 22,
   "id": "276c599b",
   "metadata": {},
   "outputs": [
    {
     "name": "stdout",
     "output_type": "stream",
     "text": [
      "2023-04-17 18:32:05,260 INFO sqlalchemy.engine.Engine BEGIN (implicit)\n",
      "2023-04-17 18:32:05,261 INFO sqlalchemy.engine.Engine SELECT SUM(SALES) FROM Sales\n",
      "2023-04-17 18:32:05,262 INFO sqlalchemy.engine.Engine [generated in 0.00261s] ()\n",
      "2023-04-17 18:32:05,264 INFO sqlalchemy.engine.Engine ROLLBACK\n"
     ]
    }
   ],
   "source": [
    "#Connect to SQL DB\n",
    "with temp_db.connect() as conn:\n",
    "    results = conn.execute(text(\"SELECT SUM(SALES) FROM Sales\"))"
   ]
  },
  {
   "cell_type": "code",
   "execution_count": 23,
   "id": "12ad7be9",
   "metadata": {},
   "outputs": [
    {
     "data": {
      "text/plain": [
       "[(10032628.85000001,)]"
      ]
     },
     "execution_count": 23,
     "metadata": {},
     "output_type": "execute_result"
    }
   ],
   "source": [
    "#Return Results\n",
    "results.all()"
   ]
  },
  {
   "cell_type": "code",
   "execution_count": 24,
   "id": "d89dce62",
   "metadata": {},
   "outputs": [
    {
     "data": {
      "text/plain": [
       "'\\nWe now need to create some handler functions for GPT-3 to understand\\nthe table structure.\\n\\nSTEPS FOR THIS PROCESS:\\n\\n1. Automatically create table structure definition from the pandas DF for \\nOpenAI API\\n\\n2. Grab user NLP input\\n\\n3. Combine the prompts for an OpenAI API call\\n\\n'"
      ]
     },
     "execution_count": 24,
     "metadata": {},
     "output_type": "execute_result"
    }
   ],
   "source": [
    "'''\n",
    "We now need to create some handler functions for GPT-3 to understand\n",
    "the table structure.\n",
    "\n",
    "STEPS FOR THIS PROCESS:\n",
    "\n",
    "1. Automatically create table structure definition from the pandas DF for \n",
    "OpenAI API\n",
    "\n",
    "2. Grab user NLP input\n",
    "\n",
    "3. Combine the prompts for an OpenAI API call\n",
    "\n",
    "'''"
   ]
  },
  {
   "cell_type": "code",
   "execution_count": 25,
   "id": "8b019f09",
   "metadata": {},
   "outputs": [],
   "source": [
    "# SQLite SQL tables with thier properties:\n",
    "# -----------------------------------------\n",
    "# Employee (ID, Name, Department_ID)\n",
    "# Department (ID, Name, Address)\n",
    "# Salary_Payments (ID, Emplyee_ID, Amount, Date)\n",
    "# -----------------------------------------\n",
    "#Create a funnction for table definitions\n",
    "def create_table_definition(df):\n",
    "    prompt = \"\"\"### sqlite SQL table, with its properties:\n",
    "    #\n",
    "    # Sales({})\n",
    "    #\n",
    "    \"\"\".format(\",\".join(str(col) for col in df.columns))\n",
    "    \n",
    "    return prompt"
   ]
  },
  {
   "cell_type": "code",
   "execution_count": 26,
   "id": "89aa01e7",
   "metadata": {},
   "outputs": [
    {
     "name": "stdout",
     "output_type": "stream",
     "text": [
      "### sqlite SQL table, with its properties:\n",
      "    #\n",
      "    # Sales(ORDERNUMBER,QUANTITYORDERED,PRICEEACH,ORDERLINENUMBER,SALES,ORDERDATE,STATUS,QTR_ID,MONTH_ID,YEAR_ID,PRODUCTLINE,MSRP,PRODUCTCODE,CUSTOMERNAME,PHONE,ADDRESSLINE1,ADDRESSLINE2,CITY,STATE,POSTALCODE,COUNTRY,TERRITORY,CONTACTLASTNAME,CONTACTFIRSTNAME,DEALSIZE)\n",
      "    #\n",
      "    \n"
     ]
    }
   ],
   "source": [
    "#Review results\n",
    "print(create_table_definition(df))"
   ]
  },
  {
   "cell_type": "code",
   "execution_count": 27,
   "id": "6eaab9b9",
   "metadata": {},
   "outputs": [],
   "source": [
    "#Create function for input\n",
    "def prompt_input():\n",
    "    nlp_text = input(\"Enter desired information: \")\n",
    "    return nlp_text"
   ]
  },
  {
   "cell_type": "code",
   "execution_count": 33,
   "id": "19dcd805",
   "metadata": {},
   "outputs": [
    {
     "name": "stdout",
     "output_type": "stream",
     "text": [
      "Enter desired information: SELECT\n"
     ]
    },
    {
     "data": {
      "text/plain": [
       "'SELECT'"
      ]
     },
     "execution_count": 33,
     "metadata": {},
     "output_type": "execute_result"
    }
   ],
   "source": [
    "#Validate function\n",
    "prompt_input()"
   ]
  },
  {
   "cell_type": "code",
   "execution_count": 34,
   "id": "f3a1a6a5",
   "metadata": {},
   "outputs": [],
   "source": [
    "#Combine these functions into a single function\n",
    "def combined(df, query_prompt):\n",
    "    definition = create_table_definition(df)\n",
    "    query_init_string = f\"###A query to answer: {query_prompt}\\nSELECT\"\n",
    "    return definition + query_init_string"
   ]
  },
  {
   "cell_type": "code",
   "execution_count": 35,
   "id": "7465a84d",
   "metadata": {},
   "outputs": [
    {
     "name": "stdout",
     "output_type": "stream",
     "text": [
      "Enter desired information: \n"
     ]
    }
   ],
   "source": [
    "#Grabbing natural language\n",
    "nlp_text = prompt_input()"
   ]
  },
  {
   "cell_type": "code",
   "execution_count": 36,
   "id": "5baf5920",
   "metadata": {},
   "outputs": [],
   "source": [
    "#inserting table definition (DF + quert that does... + NLP)\n",
    "prompt = combined(df, nlp_text)"
   ]
  },
  {
   "cell_type": "code",
   "execution_count": 37,
   "id": "88acf759",
   "metadata": {},
   "outputs": [
    {
     "name": "stdout",
     "output_type": "stream",
     "text": [
      "### sqlite SQL table, with its properties:\n",
      "    #\n",
      "    # Sales(ORDERNUMBER,QUANTITYORDERED,PRICEEACH,ORDERLINENUMBER,SALES,ORDERDATE,STATUS,QTR_ID,MONTH_ID,YEAR_ID,PRODUCTLINE,MSRP,PRODUCTCODE,CUSTOMERNAME,PHONE,ADDRESSLINE1,ADDRESSLINE2,CITY,STATE,POSTALCODE,COUNTRY,TERRITORY,CONTACTLASTNAME,CONTACTFIRSTNAME,DEALSIZE)\n",
      "    #\n",
      "    ###A query to answer: \n",
      "SELECT\n"
     ]
    }
   ],
   "source": [
    "print(prompt)"
   ]
  },
  {
   "cell_type": "code",
   "execution_count": 39,
   "id": "ab9ecbeb",
   "metadata": {},
   "outputs": [],
   "source": [
    "response = openai.Completion.create(\n",
    "            model = 'text-davinci-002',\n",
    "            prompt = combined (df, nlp_text),\n",
    "            temperature = 0,\n",
    "            max_tokens = 150,\n",
    "            top_p = 1.0,\n",
    "            frequency_penalty = 0,\n",
    "            presence_penalty = 0,\n",
    "            stop = [\"#\", \";\"]\n",
    ")"
   ]
  },
  {
   "cell_type": "code",
   "execution_count": 40,
   "id": "e5368173",
   "metadata": {},
   "outputs": [
    {
     "data": {
      "text/plain": [
       "\" * FROM Sales WHERE STATUS = 'Shipped' AND YEAR_ID = 2003 AND QTR_ID = 3\\n    \""
      ]
     },
     "execution_count": 40,
     "metadata": {},
     "output_type": "execute_result"
    }
   ],
   "source": [
    "response['choices'][0]['text']"
   ]
  },
  {
   "cell_type": "code",
   "execution_count": 41,
   "id": "00982cfa",
   "metadata": {},
   "outputs": [],
   "source": [
    "def handle_response(response):\n",
    "    query = response['choices'][0]['text']\n",
    "    if query.startswith(\" \"):\n",
    "        query = 'SELECT' + query\n",
    "    return query"
   ]
  },
  {
   "cell_type": "code",
   "execution_count": 42,
   "id": "0c9962bd",
   "metadata": {},
   "outputs": [
    {
     "data": {
      "text/plain": [
       "\"SELECT * FROM Sales WHERE STATUS = 'Shipped' AND YEAR_ID = 2003 AND QTR_ID = 3\\n    \""
      ]
     },
     "execution_count": 42,
     "metadata": {},
     "output_type": "execute_result"
    }
   ],
   "source": [
    "handle_response(response)"
   ]
  },
  {
   "cell_type": "code",
   "execution_count": 46,
   "id": "72e95b23",
   "metadata": {},
   "outputs": [
    {
     "name": "stdout",
     "output_type": "stream",
     "text": [
      "2023-04-17 18:38:01,146 INFO sqlalchemy.engine.Engine BEGIN (implicit)\n",
      "2023-04-17 18:38:01,147 INFO sqlalchemy.engine.Engine SELECT * FROM Sales WHERE STATUS = 'Shipped' AND YEAR_ID = 2003 AND QTR_ID = 3\n",
      "    \n",
      "2023-04-17 18:38:01,148 INFO sqlalchemy.engine.Engine [generated in 0.00237s] ()\n",
      "2023-04-17 18:38:01,149 INFO sqlalchemy.engine.Engine ROLLBACK\n"
     ]
    }
   ],
   "source": [
    "with temp_db.connect() as conn:\n",
    "    result = conn.execute(text(handle_response(response)))"
   ]
  },
  {
   "cell_type": "code",
   "execution_count": 47,
   "id": "b4416365",
   "metadata": {},
   "outputs": [
    {
     "data": {
      "text/plain": [
       "[(2, 10134, 41, 94.74, 2, 3884.34, '7/1/2003 0:00', 'Shipped', 3, 7, 2003, 'Motorcycles', 95, 'S10_1678', 'Lyon Souveniers', '+33 1 46 62 7555', '27 rue du Colonel Pierre Avia', None, 'Paris', None, '75508', 'France', 'EMEA', 'Da Cunha', 'Daniel', 'Medium'),\n",
       " (3, 10145, 45, 83.26, 6, 3746.7, '8/25/2003 0:00', 'Shipped', 3, 8, 2003, 'Motorcycles', 95, 'S10_1678', 'Toys4GrownUps.com', '6265557265', '78934 Hillside Dr.', None, 'Pasadena', 'CA', '90003', 'USA', None, 'Young', 'Julie', 'Medium'),\n",
       " (29, 10140, 37, 100.0, 11, 7374.1, '7/24/2003 0:00', 'Shipped', 3, 7, 2003, 'Classic Cars', 214, 'S10_1949', 'Technics Stores Inc.', '6505556809', '9408 Furth Circle', None, 'Burlingame', 'CA', '94217', 'USA', None, 'Hirano', 'Juri', 'Large'),\n",
       " (30, 10150, 45, 100.0, 8, 10993.5, '9/19/2003 0:00', 'Shipped', 3, 9, 2003, 'Classic Cars', 214, 'S10_1949', 'Dragon Souveniers, Ltd.', '+65 221 7555', 'Bronz Sok., Bronz Apt. 3/6 Tesvikiye', None, 'Singapore', None, '79903', 'Singapore', 'Japan', 'Natividad', 'Eric', 'Large'),\n",
       " (56, 10134, 27, 100.0, 5, 3307.77, '7/1/2003 0:00', 'Shipped', 3, 7, 2003, 'Motorcycles', 118, 'S10_2016', 'Lyon Souveniers', '+33 1 46 62 7555', '27 rue du Colonel Pierre Avia', None, 'Paris', None, '75508', 'France', 'EMEA', 'Da Cunha', 'Daniel', 'Medium'),\n",
       " (57, 10145, 37, 100.0, 9, 5192.95, '8/25/2003 0:00', 'Shipped', 3, 8, 2003, 'Motorcycles', 118, 'S10_2016', 'Toys4GrownUps.com', '6265557265', '78934 Hillside Dr.', None, 'Pasadena', 'CA', '90003', 'USA', None, 'Young', 'Julie', 'Medium'),\n",
       " (82, 10134, 31, 100.0, 4, 7023.98, '7/1/2003 0:00', 'Shipped', 3, 7, 2003, 'Motorcycles', 193, 'S10_4698', 'Lyon Souveniers', '+33 1 46 62 7555', '27 rue du Colonel Pierre Avia', None, 'Paris', None, '75508', 'France', 'EMEA', 'Da Cunha', 'Daniel', 'Large'),\n",
       " (83, 10145, 33, 100.0, 8, 5176.38, '8/25/2003 0:00', 'Shipped', 3, 8, 2003, 'Motorcycles', 193, 'S10_4698', 'Toys4GrownUps.com', '6265557265', '78934 Hillside Dr.', None, 'Pasadena', 'CA', '90003', 'USA', None, 'Young', 'Julie', 'Medium'),\n",
       " (109, 10143, 49, 100.0, 15, 5597.76, '8/10/2003 0:00', 'Shipped', 3, 8, 2003, 'Classic Cars', 136, 'S10_4757', 'Mini Creations Ltd.', '5085559555', '4575 Hillside Dr.', None, 'New Bedford', 'MA', '50553', 'USA', None, 'Tam', 'Wing C', 'Medium'),\n",
       " (136, 10140, 26, 100.0, 4, 3188.12, '7/24/2003 0:00', 'Shipped', 3, 7, 2003, 'Classic Cars', 147, 'S10_4962', 'Technics Stores Inc.', '6505556809', '9408 Furth Circle', None, 'Burlingame', 'CA', '94217', 'USA', None, 'Hirano', 'Juri', 'Medium'),\n",
       " (137, 10150, 20, 100.0, 1, 3191.2, '9/19/2003 0:00', 'Shipped', 3, 9, 2003, 'Classic Cars', 147, 'S10_4962', 'Dragon Souveniers, Ltd.', '+65 221 7555', 'Bronz Sok., Bronz Apt. 3/6 Tesvikiye', None, 'Singapore', None, '79903', 'Singapore', 'Japan', 'Natividad', 'Eric', 'Medium'),\n",
       " (163, 10135, 42, 100.0, 7, 8008.56, '7/2/2003 0:00', 'Shipped', 3, 7, 2003, 'Classic Cars', 194, 'S12_1099', 'Mini Gifts Distributors Ltd.', '4155551450', '5677 Strong St.', None, 'San Rafael', 'CA', '97562', 'USA', None, 'Nelson', 'Valarie', 'Large'),\n",
       " (164, 10147, 48, 100.0, 7, 9245.76, '9/5/2003 0:00', 'Shipped', 3, 9, 2003, 'Classic Cars', 194, 'S12_1099', 'Collectables For Less Inc.', '6175558555', '7825 Douglas Av.', None, 'Brickhaven', 'MA', '58339', 'USA', None, 'Nelson', 'Allen', 'Large'),\n",
       " (189, 10142, 33, 100.0, 12, 8023.29, '8/8/2003 0:00', 'Shipped', 3, 8, 2003, 'Classic Cars', 207, 'S12_1108', 'Mini Gifts Distributors Ltd.', '4155551450', '5677 Strong St.', None, 'San Rafael', 'CA', '97562', 'USA', None, 'Nelson', 'Valarie', 'Large'),\n",
       " (190, 10153, 20, 100.0, 11, 4904.0, '9/28/2003 0:00', 'Shipped', 3, 9, 2003, 'Classic Cars', 207, 'S12_1108', 'Euro Shopping Channel', '(91) 555 94 44', 'C/ Moralzarzal, 86', None, 'Madrid', None, '28034', 'Spain', 'EMEA', 'Freyre', 'Diego', 'Medium'),\n",
       " (215, 10140, 38, 100.0, 8, 4829.8, '7/24/2003 0:00', 'Shipped', 3, 7, 2003, 'Trucks and Buses', 136, 'S12_1666', 'Technics Stores Inc.', '6505556809', '9408 Furth Circle', None, 'Burlingame', 'CA', '94217', 'USA', None, 'Hirano', 'Juri', 'Medium'),\n",
       " (216, 10150, 30, 100.0, 5, 4100.1, '9/19/2003 0:00', 'Shipped', 3, 9, 2003, 'Trucks and Buses', 136, 'S12_1666', 'Dragon Souveniers, Ltd.', '+65 221 7555', 'Bronz Sok., Bronz Apt. 3/6 Tesvikiye', None, 'Singapore', None, '79903', 'Singapore', 'Japan', 'Natividad', 'Eric', 'Medium'),\n",
       " (242, 10134, 20, 100.0, 1, 2711.2, '7/1/2003 0:00', 'Shipped', 3, 7, 2003, 'Motorcycles', 150, 'S12_2823', 'Lyon Souveniers', '+33 1 46 62 7555', '27 rue du Colonel Pierre Avia', None, 'Paris', None, '75508', 'France', 'EMEA', 'Da Cunha', 'Daniel', 'Small'),\n",
       " (243, 10145, 49, 100.0, 5, 8339.8, '8/25/2003 0:00', 'Shipped', 3, 8, 2003, 'Motorcycles', 150, 'S12_2823', 'Toys4GrownUps.com', '6265557265', '78934 Hillside Dr.', None, 'Pasadena', 'CA', '90003', 'USA', None, 'Young', 'Julie', 'Large'),\n",
       " (269, 10142, 33, 100.0, 13, 4985.64, '8/8/2003 0:00', 'Shipped', 3, 8, 2003, 'Classic Cars', 151, 'S12_3148', 'Mini Gifts Distributors Ltd.', '4155551450', '5677 Strong St.', None, 'San Rafael', 'CA', '97562', 'USA', None, 'Nelson', 'Valarie', 'Medium'),\n",
       " (270, 10153, 42, 100.0, 12, 5393.64, '9/28/2003 0:00', 'Shipped', 3, 9, 2003, 'Classic Cars', 151, 'S12_3148', 'Euro Shopping Channel', '(91) 555 94 44', 'C/ Moralzarzal, 86', None, 'Madrid', None, '28034', 'Spain', 'EMEA', 'Freyre', 'Diego', 'Medium'),\n",
       " (293, 10135, 48, 100.0, 5, 6031.68, '7/2/2003 0:00', 'Shipped', 3, 7, 2003, 'Classic Cars', 117, 'S12_3380', 'Mini Gifts Distributors Ltd.', '4155551450', '5677 Strong St.', None, 'San Rafael', 'CA', '97562', 'USA', None, 'Nelson', 'Valarie', 'Medium'),\n",
       " (294, 10147, 31, 100.0, 5, 3494.94, '9/5/2003 0:00', 'Shipped', 3, 9, 2003, 'Classic Cars', 117, 'S12_3380', 'Collectables For Less Inc.', '6175558555', '7825 Douglas Av.', None, 'Brickhaven', 'MA', '58339', 'USA', None, 'Nelson', 'Allen', 'Medium'),\n",
       " (319, 10142, 46, 100.0, 11, 9470.94, '8/8/2003 0:00', 'Shipped', 3, 8, 2003, 'Classic Cars', 173, 'S12_3891', 'Mini Gifts Distributors Ltd.', '4155551450', '5677 Strong St.', None, 'San Rafael', 'CA', '97562', 'USA', None, 'Nelson', 'Valarie', 'Large'),\n",
       " (320, 10153, 49, 100.0, 10, 7036.89, '9/28/2003 0:00', 'Shipped', 3, 9, 2003, 'Classic Cars', 173, 'S12_3891', 'Euro Shopping Channel', '(91) 555 94 44', 'C/ Moralzarzal, 86', None, 'Madrid', None, '28034', 'Spain', 'EMEA', 'Freyre', 'Diego', 'Large'),\n",
       " (344, 10135, 24, 75.01, 8, 1800.24, '7/2/2003 0:00', 'Shipped', 3, 7, 2003, 'Classic Cars', 79, 'S12_3990', 'Mini Gifts Distributors Ltd.', '4155551450', '5677 Strong St.', None, 'San Rafael', 'CA', '97562', 'USA', None, 'Nelson', 'Valarie', 'Small'),\n",
       " (345, 10147, 21, 63.84, 8, 1340.64, '9/5/2003 0:00', 'Shipped', 3, 9, 2003, 'Classic Cars', 79, 'S12_3990', 'Collectables For Less Inc.', '6175558555', '7825 Douglas Av.', None, 'Brickhaven', 'MA', '58339', 'USA', None, 'Nelson', 'Allen', 'Small'),\n",
       " (370, 10141, 21, 100.0, 5, 2140.11, '8/1/2003 0:00', 'Shipped', 3, 8, 2003, 'Trucks and Buses', 118, 'S12_4473', 'Suominen Souveniers', '+358 9 8045 555', 'Software Engineering Center, SEC Oy', None, 'Espoo', None, 'FIN-02271', 'Finland', 'EMEA', 'Suominen', 'Kalle', 'Small'),\n",
       " (371, 10151, 24, 100.0, 3, 3327.6, '9/21/2003 0:00', 'Shipped', 3, 9, 2003, 'Trucks and Buses', 118, 'S12_4473', 'Oulu Toy Supplies, Inc.', '981-443655', 'Torikatu 38', None, 'Oulu', None, '90110', 'Finland', 'EMEA', 'Koskitalo', 'Pirkko', 'Medium'),\n",
       " (396, 10135, 29, 97.89, 4, 2838.81, '7/2/2003 0:00', 'Shipped', 3, 7, 2003, 'Classic Cars', 115, 'S12_4675', 'Mini Gifts Distributors Ltd.', '4155551450', '5677 Strong St.', None, 'San Rafael', 'CA', '97562', 'USA', None, 'Nelson', 'Valarie', 'Small'),\n",
       " (397, 10147, 33, 97.89, 4, 3230.37, '9/5/2003 0:00', 'Shipped', 3, 9, 2003, 'Classic Cars', 115, 'S12_4675', 'Collectables For Less Inc.', '6175558555', '7825 Douglas Av.', None, 'Brickhaven', 'MA', '58339', 'USA', None, 'Nelson', 'Allen', 'Medium'),\n",
       " (423, 10140, 32, 100.0, 10, 4181.44, '7/24/2003 0:00', 'Shipped', 3, 7, 2003, 'Trucks and Buses', 116, 'S18_1097', 'Technics Stores Inc.', '6505556809', '9408 Furth Circle', None, 'Burlingame', 'CA', '94217', 'USA', None, 'Hirano', 'Juri', 'Medium'),\n",
       " (424, 10150, 34, 100.0, 7, 4641.0, '9/19/2003 0:00', 'Shipped', 3, 9, 2003, 'Trucks and Buses', 116, 'S18_1097', 'Dragon Souveniers, Ltd.', '+65 221 7555', 'Bronz Sok., Bronz Apt. 3/6 Tesvikiye', None, 'Singapore', None, '79903', 'Singapore', 'Japan', 'Natividad', 'Eric', 'Medium'),\n",
       " (450, 10136, 25, 100.0, 2, 3644.75, '7/4/2003 0:00', 'Shipped', 3, 7, 2003, 'Classic Cars', 141, 'S18_1129', 'Alpha Cognac', '61.77.6555', '1 rue Alsace-Lorraine', None, 'Toulouse', None, '31000', 'France', 'EMEA', 'Roulet', 'Annette', 'Medium'),\n",
       " (451, 10148, 23, 100.0, 13, 2702.04, '9/11/2003 0:00', 'Shipped', 3, 9, 2003, 'Classic Cars', 141, 'S18_1129', \"Anna's Decorations, Ltd\", '02 9936 8555', '201 Miller Street', 'Level 15', 'North Sydney', 'NSW', '2060', 'Australia', 'APAC', \"O'Hara\", 'Anna', 'Small'),\n",
       " (478, 10139, 31, 100.0, 7, 3184.94, '7/16/2003 0:00', 'Shipped', 3, 7, 2003, 'Vintage Cars', 102, 'S18_1342', 'Souveniers And Things Co.', '+61 2 9495 8555', 'Monitor Money Building, 815 Pacific Hwy', 'Level 6', 'Chatswood', 'NSW', '2067', 'Australia', 'APAC', 'Huxley', 'Adrian', 'Medium'),\n",
       " (479, 10149, 50, 100.0, 4, 5907.5, '9/12/2003 0:00', 'Shipped', 3, 9, 2003, 'Vintage Cars', 102, 'S18_1342', 'Signal Collectibles Ltd.', '4155554312', '2793 Furth Circle', None, 'Brisbane', 'CA', '94217', 'USA', None, 'Taylor', 'Sue', 'Medium'),\n",
       " (504, 10139, 49, 43.13, 6, 2113.37, '7/16/2003 0:00', 'Shipped', 3, 7, 2003, 'Vintage Cars', 53, 'S18_1367', 'Souveniers And Things Co.', '+61 2 9495 8555', 'Monitor Money Building, 815 Pacific Hwy', 'Level 6', 'Chatswood', 'NSW', '2067', 'Australia', 'APAC', 'Huxley', 'Adrian', 'Small'),\n",
       " (505, 10149, 30, 58.22, 3, 1746.6, '9/12/2003 0:00', 'Shipped', 3, 9, 2003, 'Vintage Cars', 53, 'S18_1367', 'Signal Collectibles Ltd.', '4155554312', '2793 Furth Circle', None, 'Brisbane', 'CA', '94217', 'USA', None, 'Taylor', 'Sue', 'Small'),\n",
       " (529, 10137, 44, 99.55, 2, 4380.2, '7/10/2003 0:00', 'Shipped', 3, 7, 2003, 'Classic Cars', 124, 'S18_1589', 'Reims Collectables', '26.47.1555', \"59 rue de l'Abbaye\", None, 'Reims', None, '51100', 'France', 'EMEA', 'Henriot', 'Paul', 'Medium'),\n",
       " (530, 10148, 47, 100.0, 9, 5848.68, '9/11/2003 0:00', 'Shipped', 3, 9, 2003, 'Classic Cars', 124, 'S18_1589', \"Anna's Decorations, Ltd\", '02 9936 8555', '201 Miller Street', 'Level 15', 'North Sydney', 'NSW', '2060', 'Australia', 'APAC', \"O'Hara\", 'Anna', 'Medium'),\n",
       " (555, 10143, 32, 100.0, 7, 5248.0, '8/10/2003 0:00', 'Shipped', 3, 8, 2003, 'Planes', 157, 'S18_1662', 'Mini Creations Ltd.', '5085559555', '4575 Hillside Dr.', None, 'New Bedford', 'MA', '50553', 'USA', None, 'Tam', 'Wing C', 'Medium'),\n",
       " (581, 10149, 34, 100.0, 11, 5375.4, '9/12/2003 0:00', 'Shipped', 3, 9, 2003, 'Vintage Cars', 170, 'S18_1749', 'Signal Collectibles Ltd.', '4155554312', '2793 Furth Circle', None, 'Brisbane', 'CA', '94217', 'USA', None, 'Taylor', 'Sue', 'Medium'),\n",
       " (602, 10135, 48, 79.31, 3, 3806.88, '7/2/2003 0:00', 'Shipped', 3, 7, 2003, 'Classic Cars', 77, 'S18_1889', 'Mini Gifts Distributors Ltd.', '4155551450', '5677 Strong St.', None, 'San Rafael', 'CA', '97562', 'USA', None, 'Nelson', 'Valarie', 'Medium'),\n",
       " (603, 10147, 26, 82.39, 3, 2142.14, '9/5/2003 0:00', 'Shipped', 3, 9, 2003, 'Classic Cars', 77, 'S18_1889', 'Collectables For Less Inc.', '6175558555', '7825 Douglas Av.', None, 'Brickhaven', 'MA', '58339', 'USA', None, 'Nelson', 'Allen', 'Small'),\n",
       " (628, 10136, 36, 100.0, 1, 5274.72, '7/4/2003 0:00', 'Shipped', 3, 7, 2003, 'Classic Cars', 142, 'S18_1984', 'Alpha Cognac', '61.77.6555', '1 rue Alsace-Lorraine', None, 'Toulouse', None, '31000', 'France', 'EMEA', 'Roulet', 'Annette', 'Medium'),\n",
       " (629, 10148, 25, 100.0, 12, 4232.0, '9/11/2003 0:00', 'Shipped', 3, 9, 2003, 'Classic Cars', 142, 'S18_1984', \"Anna's Decorations, Ltd\", '02 9936 8555', '201 Miller Street', 'Level 15', 'North Sydney', 'NSW', '2060', 'Australia', 'APAC', \"O'Hara\", 'Anna', 'Medium'),\n",
       " (656, 10141, 39, 100.0, 4, 5938.53, '8/1/2003 0:00', 'Shipped', 3, 8, 2003, 'Classic Cars', 163, 'S18_2238', 'Suominen Souveniers', '+358 9 8045 555', 'Software Engineering Center, SEC Oy', None, 'Espoo', None, 'FIN-02271', 'Finland', 'EMEA', 'Suominen', 'Kalle', 'Medium'),\n",
       " (657, 10151, 43, 100.0, 2, 7110.91, '9/21/2003 0:00', 'Shipped', 3, 9, 2003, 'Classic Cars', 163, 'S18_2238', 'Oulu Toy Supplies, Inc.', '981-443655', 'Torikatu 38', None, 'Oulu', None, '90110', 'Finland', 'EMEA', 'Koskitalo', 'Pirkko', 'Large'),\n",
       " (683, 10149, 24, 62.36, 10, 1496.64, '9/12/2003 0:00', 'Shipped', 3, 9, 2003, 'Vintage Cars', 60, 'S18_2248', 'Signal Collectibles Ltd.', '4155554312', '2793 Furth Circle', None, 'Brisbane', 'CA', '94217', 'USA', None, 'Taylor', 'Sue', 'Small'),\n",
       " (705, 10141, 47, 100.0, 8, 6287.66, '8/1/2003 0:00', 'Shipped', 3, 8, 2003, 'Trucks and Buses', 122, 'S18_2319', 'Suominen Souveniers', '+358 9 8045 555', 'Software Engineering Center, SEC Oy', None, 'Espoo', None, 'FIN-02271', 'Finland', 'EMEA', 'Suominen', 'Kalle', 'Medium'),\n",
       " (706, 10151, 49, 100.0, 6, 5412.54, '9/21/2003 0:00', 'Shipped', 3, 9, 2003, 'Trucks and Buses', 122, 'S18_2319', 'Oulu Toy Supplies, Inc.', '981-443655', 'Torikatu 38', None, 'Oulu', None, '90110', 'Finland', 'EMEA', 'Koskitalo', 'Pirkko', 'Medium'),\n",
       " (731, 10149, 33, 100.0, 8, 4950.33, '9/12/2003 0:00', 'Shipped', 3, 9, 2003, 'Vintage Cars', 127, 'S18_2325', 'Signal Collectibles Ltd.', '4155554312', '2793 Furth Circle', None, 'Brisbane', 'CA', '94217', 'USA', None, 'Taylor', 'Sue', 'Medium'),\n",
       " (756, 10140, 46, 61.99, 2, 2851.54, '7/24/2003 0:00', 'Shipped', 3, 7, 2003, 'Trucks and Buses', 60, 'S18_2432', 'Technics Stores Inc.', '6505556809', '9408 Furth Circle', None, 'Burlingame', 'CA', '94217', 'USA', None, 'Hirano', 'Juri', 'Small'),\n",
       " (757, 10151, 39, 69.28, 9, 2701.92, '9/21/2003 0:00', 'Shipped', 3, 9, 2003, 'Trucks and Buses', 60, 'S18_2432', 'Oulu Toy Supplies, Inc.', '981-443655', 'Torikatu 38', None, 'Oulu', None, '90110', 'Finland', 'EMEA', 'Koskitalo', 'Pirkko', 'Small'),\n",
       " (784, 10145, 30, 85.32, 14, 2559.6, '8/25/2003 0:00', 'Shipped', 3, 8, 2003, 'Planes', 84, 'S18_2581', 'Toys4GrownUps.com', '6265557265', '78934 Hillside Dr.', None, 'Pasadena', 'CA', '90003', 'USA', None, 'Young', 'Julie', 'Small'),\n",
       " (806, 10134, 30, 61.78, 6, 1853.4, '7/1/2003 0:00', 'Shipped', 3, 7, 2003, 'Motorcycles', 60, 'S18_2625', 'Lyon Souveniers', '+33 1 46 62 7555', '27 rue du Colonel Pierre Avia', None, 'Paris', None, '75508', 'France', 'EMEA', 'Da Cunha', 'Daniel', 'Small'),\n",
       " (807, 10145, 30, 49.67, 10, 1490.1, '8/25/2003 0:00', 'Shipped', 3, 8, 2003, 'Motorcycles', 60, 'S18_2625', 'Toys4GrownUps.com', '6265557265', '78934 Hillside Dr.', None, 'Pasadena', 'CA', '90003', 'USA', None, 'Young', 'Julie', 'Small'),\n",
       " (833, 10139, 41, 100.0, 8, 7956.46, '7/16/2003 0:00', 'Shipped', 3, 7, 2003, 'Vintage Cars', 168, 'S18_2795', 'Souveniers And Things Co.', '+61 2 9495 8555', 'Monitor Money Building, 815 Pacific Hwy', 'Level 6', 'Chatswood', 'NSW', '2067', 'Australia', 'APAC', 'Huxley', 'Adrian', 'Large'),\n",
       " (834, 10149, 23, 100.0, 5, 4230.62, '9/12/2003 0:00', 'Shipped', 3, 9, 2003, 'Vintage Cars', 168, 'S18_2795', 'Signal Collectibles Ltd.', '4155554312', '2793 Furth Circle', None, 'Brisbane', 'CA', '94217', 'USA', None, 'Taylor', 'Sue', 'Medium'),\n",
       " (858, 10137, 37, 100.0, 3, 4346.76, '7/10/2003 0:00', 'Shipped', 3, 7, 2003, 'Classic Cars', 132, 'S18_2870', 'Reims Collectables', '26.47.1555', \"59 rue de l'Abbaye\", None, 'Reims', None, '51100', 'France', 'EMEA', 'Henriot', 'Paul', 'Medium'),\n",
       " (859, 10148, 27, 100.0, 10, 3528.36, '9/11/2003 0:00', 'Shipped', 3, 9, 2003, 'Classic Cars', 132, 'S18_2870', \"Anna's Decorations, Ltd\", '02 9936 8555', '201 Miller Street', 'Level 15', 'North Sydney', 'NSW', '2060', 'Australia', 'APAC', \"O'Hara\", 'Anna', 'Medium'),\n",
       " (884, 10139, 46, 100.0, 1, 5545.76, '7/16/2003 0:00', 'Shipped', 3, 7, 2003, 'Vintage Cars', 101, 'S18_2949', 'Souveniers And Things Co.', '+61 2 9495 8555', 'Monitor Money Building, 815 Pacific Hwy', 'Level 6', 'Chatswood', 'NSW', '2067', 'Australia', 'APAC', 'Huxley', 'Adrian', 'Medium'),\n",
       " (885, 10150, 47, 91.18, 9, 4285.46, '9/19/2003 0:00', 'Shipped', 3, 9, 2003, 'Vintage Cars', 101, 'S18_2949', 'Dragon Souveniers, Ltd.', '+65 221 7555', 'Bronz Sok., Bronz Apt. 3/6 Tesvikiye', None, 'Singapore', None, '79903', 'Singapore', 'Japan', 'Natividad', 'Eric', 'Medium'),\n",
       " (911, 10139, 20, 71.2, 3, 1424.0, '7/16/2003 0:00', 'Shipped', 3, 7, 2003, 'Vintage Cars', 62, 'S18_2957', 'Souveniers And Things Co.', '+61 2 9495 8555', 'Monitor Money Building, 815 Pacific Hwy', 'Level 6', 'Chatswood', 'NSW', '2067', 'Australia', 'APAC', 'Huxley', 'Adrian', 'Small'),\n",
       " (912, 10150, 30, 49.97, 11, 1499.1, '9/19/2003 0:00', 'Shipped', 3, 9, 2003, 'Vintage Cars', 62, 'S18_2957', 'Dragon Souveniers, Ltd.', '+65 221 7555', 'Bronz Sok., Bronz Apt. 3/6 Tesvikiye', None, 'Singapore', None, '79903', 'Singapore', 'Japan', 'Natividad', 'Eric', 'Small'),\n",
       " (938, 10143, 46, 74.84, 13, 3442.64, '8/10/2003 0:00', 'Shipped', 3, 8, 2003, 'Ships', 86, 'S18_3029', 'Mini Creations Ltd.', '5085559555', '4575 Hillside Dr.', None, 'New Bedford', 'MA', '50553', 'USA', None, 'Tam', 'Wing C', 'Medium'),\n",
       " (964, 10139, 20, 90.06, 2, 1801.2, '7/16/2003 0:00', 'Shipped', 3, 7, 2003, 'Vintage Cars', 104, 'S18_3136', 'Souveniers And Things Co.', '+61 2 9495 8555', 'Monitor Money Building, 815 Pacific Hwy', 'Level 6', 'Chatswood', 'NSW', '2067', 'Australia', 'APAC', 'Huxley', 'Adrian', 'Small'),\n",
       " (965, 10150, 26, 100.0, 10, 2804.36, '9/19/2003 0:00', 'Shipped', 3, 9, 2003, 'Vintage Cars', 104, 'S18_3136', 'Dragon Souveniers, Ltd.', '+65 221 7555', 'Bronz Sok., Bronz Apt. 3/6 Tesvikiye', None, 'Singapore', None, '79903', 'Singapore', 'Japan', 'Natividad', 'Eric', 'Small'),\n",
       " (991, 10142, 47, 100.0, 8, 6034.33, '8/8/2003 0:00', 'Shipped', 3, 8, 2003, 'Vintage Cars', 136, 'S18_3140', 'Mini Gifts Distributors Ltd.', '4155551450', '5677 Strong St.', None, 'San Rafael', 'CA', '97562', 'USA', None, 'Nelson', 'Valarie', 'Medium'),\n",
       " (992, 10153, 31, 100.0, 7, 3641.57, '9/28/2003 0:00', 'Shipped', 3, 9, 2003, 'Vintage Cars', 136, 'S18_3140', 'Euro Shopping Channel', '(91) 555 94 44', 'C/ Moralzarzal, 86', None, 'Madrid', None, '28034', 'Spain', 'EMEA', 'Freyre', 'Diego', 'Medium'),\n",
       " (1018, 10136, 41, 100.0, 3, 8331.61, '7/4/2003 0:00', 'Shipped', 3, 7, 2003, 'Classic Cars', 169, 'S18_3232', 'Alpha Cognac', '61.77.6555', '1 rue Alsace-Lorraine', None, 'Toulouse', None, '31000', 'France', 'EMEA', 'Roulet', 'Annette', 'Large'),\n",
       " (1019, 10141, 34, 100.0, 9, 4836.5, '8/1/2003 0:00', 'Shipped', 3, 8, 2003, 'Classic Cars', 169, 'S18_3232', 'Suominen Souveniers', '+358 9 8045 555', 'Software Engineering Center, SEC Oy', None, 'Espoo', None, 'FIN-02271', 'Finland', 'EMEA', 'Suominen', 'Kalle', 'Medium'),\n",
       " (1020, 10148, 32, 100.0, 14, 5418.88, '9/11/2003 0:00', 'Shipped', 3, 9, 2003, 'Classic Cars', 169, 'S18_3232', \"Anna's Decorations, Ltd\", '02 9936 8555', '201 Miller Street', 'Level 15', 'North Sydney', 'NSW', '2060', 'Australia', 'APAC', \"O'Hara\", 'Anna', 'Medium'),\n",
       " (1021, 10151, 21, 100.0, 7, 3734.01, '9/21/2003 0:00', 'Shipped', 3, 9, 2003, 'Classic Cars', 169, 'S18_3232', 'Oulu Toy Supplies, Inc.', '981-443655', 'Torikatu 38', None, 'Oulu', None, '90110', 'Finland', 'EMEA', 'Koskitalo', 'Pirkko', 'Medium'),\n",
       " (1068, 10142, 22, 97.81, 10, 2151.82, '8/8/2003 0:00', 'Shipped', 3, 8, 2003, 'Trains', 100, 'S18_3259', 'Mini Gifts Distributors Ltd.', '4155551450', '5677 Strong St.', None, 'San Rafael', 'CA', '97562', 'USA', None, 'Nelson', 'Valarie', 'Small'),\n",
       " (1069, 10153, 29, 88.74, 9, 2573.46, '9/28/2003 0:00', 'Shipped', 3, 9, 2003, 'Trains', 100, 'S18_3259', 'Euro Shopping Channel', '(91) 555 94 44', 'C/ Moralzarzal, 86', None, 'Madrid', None, '28034', 'Spain', 'EMEA', 'Freyre', 'Diego', 'Small'),\n",
       " (1092, 10135, 45, 78.0, 10, 3510.0, '7/2/2003 0:00', 'Shipped', 3, 7, 2003, 'Classic Cars', 80, 'S18_3278', 'Mini Gifts Distributors Ltd.', '4155551450', '5677 Strong St.', None, 'San Rafael', 'CA', '97562', 'USA', None, 'Nelson', 'Valarie', 'Medium'),\n",
       " (1093, 10147, 36, 86.04, 10, 3097.44, '9/5/2003 0:00', 'Shipped', 3, 9, 2003, 'Classic Cars', 80, 'S18_3278', 'Collectables For Less Inc.', '6175558555', '7825 Douglas Av.', None, 'Brickhaven', 'MA', '58339', 'USA', None, 'Nelson', 'Allen', 'Medium'),\n",
       " (1117, 10139, 30, 100.0, 5, 3095.4, '7/16/2003 0:00', 'Shipped', 3, 7, 2003, 'Vintage Cars', 99, 'S18_3320', 'Souveniers And Things Co.', '+61 2 9495 8555', 'Monitor Money Building, 815 Pacific Hwy', 'Level 6', 'Chatswood', 'NSW', '2067', 'Australia', 'APAC', 'Huxley', 'Adrian', 'Medium'),\n",
       " (1118, 10149, 42, 94.25, 2, 3958.5, '9/12/2003 0:00', 'Shipped', 3, 9, 2003, 'Vintage Cars', 99, 'S18_3320', 'Signal Collectibles Ltd.', '4155554312', '2793 Furth Circle', None, 'Brisbane', 'CA', '94217', 'USA', None, 'Taylor', 'Sue', 'Medium'),\n",
       " (1142, 10135, 42, 100.0, 9, 5432.7, '7/2/2003 0:00', 'Shipped', 3, 7, 2003, 'Classic Cars', 146, 'S18_3482', 'Mini Gifts Distributors Ltd.', '4155551450', '5677 Strong St.', None, 'San Rafael', 'CA', '97562', 'USA', None, 'Nelson', 'Valarie', 'Medium'),\n",
       " (1143, 10147, 37, 100.0, 9, 4405.22, '9/5/2003 0:00', 'Shipped', 3, 9, 2003, 'Classic Cars', 146, 'S18_3482', 'Collectables For Less Inc.', '6175558555', '7825 Douglas Av.', None, 'Brickhaven', 'MA', '58339', 'USA', None, 'Nelson', 'Allen', 'Medium'),\n",
       " (1167, 10137, 31, 100.0, 4, 5124.3, '7/10/2003 0:00', 'Shipped', 3, 7, 2003, 'Classic Cars', 141, 'S18_3685', 'Reims Collectables', '26.47.1555', \"59 rue de l'Abbaye\", None, 'Reims', None, '51100', 'France', 'EMEA', 'Henriot', 'Paul', 'Medium'),\n",
       " (1168, 10148, 28, 100.0, 11, 3639.44, '9/11/2003 0:00', 'Shipped', 3, 9, 2003, 'Classic Cars', 141, 'S18_3685', \"Anna's Decorations, Ltd\", '02 9936 8555', '201 Miller Street', 'Level 15', 'North Sydney', 'NSW', '2060', 'Australia', 'APAC', \"O'Hara\", 'Anna', 'Medium'),\n",
       " (1192, 10135, 45, 50.36, 13, 2266.2, '7/2/2003 0:00', 'Shipped', 3, 7, 2003, 'Motorcycles', 62, 'S18_3782', 'Mini Gifts Distributors Ltd.', '4155551450', '5677 Strong St.', None, 'San Rafael', 'CA', '97562', 'USA', None, 'Nelson', 'Valarie', 'Small'),\n",
       " (1193, 10146, 47, 67.14, 2, 3155.58, '9/3/2003 0:00', 'Shipped', 3, 9, 2003, 'Motorcycles', 62, 'S18_3782', 'Gift Ideas Corp.', '2035554407', '2440 Pompton St.', None, 'Glendale', 'CT', '97561', 'USA', None, 'Lewis', 'Dan', 'Medium'),\n",
       " (1218, 10143, 34, 100.0, 12, 3455.76, '8/10/2003 0:00', 'Shipped', 3, 8, 2003, 'Vintage Cars', 105, 'S18_3856', 'Mini Creations Ltd.', '5085559555', '4575 Hillside Dr.', None, 'New Bedford', 'MA', '50553', 'USA', None, 'Tam', 'Wing C', 'Medium'),\n",
       " (1244, 10142, 24, 100.0, 15, 3791.52, '8/8/2003 0:00', 'Shipped', 3, 8, 2003, 'Classic Cars', 143, 'S18_4027', 'Mini Gifts Distributors Ltd.', '4155551450', '5677 Strong St.', None, 'San Rafael', 'CA', '97562', 'USA', None, 'Nelson', 'Valarie', 'Medium'),\n",
       " (1245, 10152, 35, 100.0, 1, 4524.1, '9/25/2003 0:00', 'Shipped', 3, 9, 2003, 'Classic Cars', 143, 'S18_4027', 'Australian Gift Network, Co', '61-7-3844-6555', '31 Duncan St. West End', None, 'South Brisbane', 'Queensland', '4101', 'Australia', 'APAC', 'Calaghan', 'Tony', 'Medium'),\n",
       " (1270, 10148, 34, 100.0, 1, 3598.22, '9/11/2003 0:00', 'Shipped', 3, 9, 2003, 'Vintage Cars', 92, 'S18_4409', \"Anna's Decorations, Ltd\", '02 9936 8555', '201 Miller Street', 'Level 15', 'North Sydney', 'NSW', '2060', 'Australia', 'APAC', \"O'Hara\", 'Anna', 'Medium'),\n",
       " (1292, 10142, 24, 70.22, 7, 1685.28, '8/8/2003 0:00', 'Shipped', 3, 8, 2003, 'Vintage Cars', 87, 'S18_4522', 'Mini Gifts Distributors Ltd.', '4155551450', '5677 Strong St.', None, 'San Rafael', 'CA', '97562', 'USA', None, 'Nelson', 'Valarie', 'Small'),\n",
       " (1293, 10153, 22, 83.38, 6, 1834.36, '9/28/2003 0:00', 'Shipped', 3, 9, 2003, 'Vintage Cars', 87, 'S18_4522', 'Euro Shopping Channel', '(91) 555 94 44', 'C/ Moralzarzal, 86', None, 'Madrid', None, '28034', 'Spain', 'EMEA', 'Freyre', 'Diego', 'Small'),\n",
       " (1318, 10140, 40, 100.0, 5, 4601.2, '7/24/2003 0:00', 'Shipped', 3, 7, 2003, 'Trucks and Buses', 121, 'S18_4600', 'Technics Stores Inc.', '6505556809', '9408 Furth Circle', None, 'Burlingame', 'CA', '94217', 'USA', None, 'Hirano', 'Juri', 'Medium'),\n",
       " (1319, 10150, 49, 100.0, 2, 6467.02, '9/19/2003 0:00', 'Shipped', 3, 9, 2003, 'Trucks and Buses', 121, 'S18_4600', 'Dragon Souveniers, Ltd.', '+65 221 7555', 'Bronz Sok., Bronz Apt. 3/6 Tesvikiye', None, 'Singapore', None, '79903', 'Singapore', 'Japan', 'Natividad', 'Eric', 'Medium'),\n",
       " (1345, 10140, 29, 43.27, 9, 1254.83, '7/24/2003 0:00', 'Shipped', 3, 7, 2003, 'Vintage Cars', 50, 'S18_4668', 'Technics Stores Inc.', '6505556809', '9408 Furth Circle', None, 'Burlingame', 'CA', '94217', 'USA', None, 'Hirano', 'Juri', 'Small'),\n",
       " (1346, 10150, 30, 42.76, 6, 1282.8, '9/19/2003 0:00', 'Shipped', 3, 9, 2003, 'Vintage Cars', 50, 'S18_4668', 'Dragon Souveniers, Ltd.', '+65 221 7555', 'Bronz Sok., Bronz Apt. 3/6 Tesvikiye', None, 'Singapore', None, '79903', 'Singapore', 'Japan', 'Natividad', 'Eric', 'Small'),\n",
       " (1371, 10135, 31, 100.0, 12, 4705.18, '7/2/2003 0:00', 'Shipped', 3, 7, 2003, 'Classic Cars', 148, 'S18_4721', 'Mini Gifts Distributors Ltd.', '4155551450', '5677 Strong St.', None, 'San Rafael', 'CA', '97562', 'USA', None, 'Nelson', 'Valarie', 'Medium'),\n",
       " (1372, 10146, 29, 100.0, 1, 4444.54, '9/3/2003 0:00', 'Shipped', 3, 9, 2003, 'Classic Cars', 148, 'S18_4721', 'Gift Ideas Corp.', '2035554407', '2440 Pompton St.', None, 'Glendale', 'CT', '97561', 'USA', None, 'Lewis', 'Dan', 'Medium'),\n",
       " (1395, 10148, 29, 81.25, 2, 2356.25, '9/11/2003 0:00', 'Shipped', 3, 9, 2003, 'Classic Cars', 71, 'S18_4933', \"Anna's Decorations, Ltd\", '02 9936 8555', '201 Miller Street', 'Level 15', 'North Sydney', 'NSW', '2060', 'Australia', 'APAC', \"O'Hara\", 'Anna', 'Small'),\n",
       " (1417, 10148, 25, 60.26, 6, 1506.5, '9/11/2003 0:00', 'Shipped', 3, 9, 2003, 'Classic Cars', 73, 'S24_1046', \"Anna's Decorations, Ltd\", '02 9936 8555', '201 Miller Street', 'Level 15', 'North Sydney', 'NSW', '2060', 'Australia', 'APAC', \"O'Hara\", 'Anna', 'Small'),\n",
       " (1441, 10141, 20, 54.33, 2, 1086.6, '8/1/2003 0:00', 'Shipped', 3, 8, 2003, 'Classic Cars', 57, 'S24_1444', 'Suominen Souveniers', '+358 9 8045 555', 'Software Engineering Center, SEC Oy', None, 'Espoo', None, 'FIN-02271', 'Finland', 'EMEA', 'Suominen', 'Kalle', 'Small'),\n",
       " (1442, 10152, 25, 65.31, 4, 1632.75, '9/25/2003 0:00', 'Shipped', 3, 9, 2003, 'Classic Cars', 57, 'S24_1444', 'Australian Gift Network, Co', '61-7-3844-6555', '31 Duncan St. West End', None, 'South Brisbane', 'Queensland', '4101', 'Australia', 'APAC', 'Calaghan', 'Tony', 'Small'),\n",
       " (1468, 10134, 35, 93.54, 3, 3273.9, '7/1/2003 0:00', 'Shipped', 3, 7, 2003, 'Motorcycles', 112, 'S24_1578', 'Lyon Souveniers', '+33 1 46 62 7555', '27 rue du Colonel Pierre Avia', None, 'Paris', None, '75508', 'France', 'EMEA', 'Da Cunha', 'Daniel', 'Medium'),\n",
       " (1469, 10145, 43, 95.8, 7, 4119.4, '8/25/2003 0:00', 'Shipped', 3, 8, 2003, 'Motorcycles', 112, 'S24_1578', 'Toys4GrownUps.com', '6265557265', '78934 Hillside Dr.', None, 'Pasadena', 'CA', '90003', 'USA', None, 'Young', 'Julie', 'Medium'),\n",
       " (1494, 10137, 26, 49.81, 1, 1295.06, '7/10/2003 0:00', 'Shipped', 3, 7, 2003, 'Classic Cars', 50, 'S24_1628', 'Reims Collectables', '26.47.1555', \"59 rue de l'Abbaye\", None, 'Reims', None, '51100', 'France', 'EMEA', 'Henriot', 'Paul', 'Small'),\n",
       " (1495, 10148, 47, 56.85, 8, 2671.95, '9/11/2003 0:00', 'Shipped', 3, 9, 2003, 'Classic Cars', 50, 'S24_1628', \"Anna's Decorations, Ltd\", '02 9936 8555', '201 Miller Street', 'Level 15', 'North Sydney', 'NSW', '2060', 'Australia', 'APAC', \"O'Hara\", 'Anna', 'Small'),\n",
       " (1519, 10145, 40, 87.54, 16, 3501.6, '8/25/2003 0:00', 'Shipped', 3, 8, 2003, 'Planes', 109, 'S24_1785', 'Toys4GrownUps.com', '6265557265', '78934 Hillside Dr.', None, 'Pasadena', 'CA', '90003', 'USA', None, 'Young', 'Julie', 'Medium'),\n",
       " (1542, 10149, 36, 33.19, 7, 1194.84, '9/12/2003 0:00', 'Shipped', 3, 9, 2003, 'Vintage Cars', 33, 'S24_1937', 'Signal Collectibles Ltd.', '4155554312', '2793 Furth Circle', None, 'Brisbane', 'CA', '94217', 'USA', None, 'Taylor', 'Sue', 'Small'),\n",
       " (1566, 10134, 43, 83.03, 7, 3570.29, '7/1/2003 0:00', 'Shipped', 3, 7, 2003, 'Motorcycles', 76, 'S24_2000', 'Lyon Souveniers', '+33 1 46 62 7555', '27 rue du Colonel Pierre Avia', None, 'Paris', None, '75508', 'France', 'EMEA', 'Da Cunha', 'Daniel', 'Medium'),\n",
       " (1567, 10145, 47, 83.03, 11, 3902.41, '8/25/2003 0:00', 'Shipped', 3, 8, 2003, 'Motorcycles', 76, 'S24_2000', 'Toys4GrownUps.com', '6265557265', '78934 Hillside Dr.', None, 'Pasadena', 'CA', '90003', 'USA', None, 'Young', 'Julie', 'Medium'),\n",
       " (1593, 10142, 33, 100.0, 6, 3366.0, '8/8/2003 0:00', 'Shipped', 3, 8, 2003, 'Ships', 122, 'S24_2011', 'Mini Gifts Distributors Ltd.', '4155551450', '5677 Strong St.', None, 'San Rafael', 'CA', '97562', 'USA', None, 'Nelson', 'Valarie', 'Medium'),\n",
       " (1594, 10153, 40, 100.0, 5, 5456.4, '9/28/2003 0:00', 'Shipped', 3, 9, 2003, 'Ships', 122, 'S24_2011', 'Euro Shopping Channel', '(91) 555 94 44', 'C/ Moralzarzal, 86', None, 'Madrid', None, '28034', 'Spain', 'EMEA', 'Freyre', 'Diego', 'Medium'),\n",
       " (1619, 10149, 49, 49.28, 6, 2414.72, '9/12/2003 0:00', 'Shipped', 3, 9, 2003, 'Vintage Cars', 44, 'S24_2022', 'Signal Collectibles Ltd.', '4155554312', '2793 Furth Circle', None, 'Brisbane', 'CA', '94217', 'USA', None, 'Taylor', 'Sue', 'Small'),\n",
       " (1644, 10140, 47, 100.0, 1, 5105.14, '7/24/2003 0:00', 'Shipped', 3, 7, 2003, 'Trucks and Buses', 127, 'S24_2300', 'Technics Stores Inc.', '6505556809', '9408 Furth Circle', None, 'Burlingame', 'CA', '94217', 'USA', None, 'Hirano', 'Juri', 'Medium'),\n",
       " (1645, 10151, 42, 100.0, 8, 5098.8, '9/21/2003 0:00', 'Shipped', 3, 9, 2003, 'Trucks and Buses', 127, 'S24_2300', 'Oulu Toy Supplies, Inc.', '981-443655', 'Torikatu 38', None, 'Oulu', None, '90110', 'Finland', 'EMEA', 'Koskitalo', 'Pirkko', 'Medium'),\n",
       " (1670, 10135, 29, 61.64, 16, 1787.56, '7/2/2003 0:00', 'Shipped', 3, 7, 2003, 'Motorcycles', 69, 'S24_2360', 'Mini Gifts Distributors Ltd.', '4155551450', '5677 Strong St.', None, 'San Rafael', 'CA', '97562', 'USA', None, 'Nelson', 'Valarie', 'Small'),\n",
       " (1671, 10145, 27, 60.95, 3, 1645.65, '8/25/2003 0:00', 'Shipped', 3, 8, 2003, 'Motorcycles', 69, 'S24_2360', 'Toys4GrownUps.com', '6265557265', '78934 Hillside Dr.', None, 'Pasadena', 'CA', '90003', 'USA', None, 'Young', 'Julie', 'Small'),\n",
       " (1695, 10148, 21, 73.6, 4, 1545.6, '9/11/2003 0:00', 'Shipped', 3, 9, 2003, 'Classic Cars', 90, 'S24_2766', \"Anna's Decorations, Ltd\", '02 9936 8555', '201 Miller Street', 'Level 15', 'North Sydney', 'NSW', '2060', 'Australia', 'APAC', \"O'Hara\", 'Anna', 'Small'),\n",
       " (1719, 10141, 21, 42.43, 6, 891.03, '8/1/2003 0:00', 'Shipped', 3, 8, 2003, 'Classic Cars', 35, 'S24_2840', 'Suominen Souveniers', '+358 9 8045 555', 'Software Engineering Center, SEC Oy', None, 'Espoo', None, 'FIN-02271', 'Finland', 'EMEA', 'Suominen', 'Kalle', 'Small'),\n",
       " (1720, 10151, 30, 40.31, 4, 1209.3, '9/21/2003 0:00', 'Shipped', 3, 9, 2003, 'Classic Cars', 35, 'S24_2840', 'Oulu Toy Supplies, Inc.', '981-443655', 'Torikatu 38', None, 'Oulu', None, '90110', 'Finland', 'EMEA', 'Koskitalo', 'Pirkko', 'Small'),\n",
       " (1747, 10143, 27, 60.97, 8, 1646.19, '8/10/2003 0:00', 'Shipped', 3, 8, 2003, 'Planes', 68, 'S24_2841', 'Mini Creations Ltd.', '5085559555', '4575 Hillside Dr.', None, 'New Bedford', 'MA', '50553', 'USA', None, 'Tam', 'Wing C', 'Small'),\n",
       " (1772, 10148, 34, 100.0, 3, 4392.12, '9/11/2003 0:00', 'Shipped', 3, 9, 2003, 'Classic Cars', 117, 'S24_2887', \"Anna's Decorations, Ltd\", '02 9936 8555', '201 Miller Street', 'Level 15', 'North Sydney', 'NSW', '2060', 'Australia', 'APAC', \"O'Hara\", 'Anna', 'Medium'),\n",
       " (1794, 10135, 20, 35.87, 1, 717.4, '7/2/2003 0:00', 'Shipped', 3, 7, 2003, 'Classic Cars', 37, 'S24_2972', 'Mini Gifts Distributors Ltd.', '4155551450', '5677 Strong St.', None, 'San Rafael', 'CA', '97562', 'USA', None, 'Nelson', 'Valarie', 'Small'),\n",
       " (1795, 10147, 25, 42.67, 1, 1066.75, '9/5/2003 0:00', 'Shipped', 3, 9, 2003, 'Classic Cars', 37, 'S24_2972', 'Collectables For Less Inc.', '6175558555', '7825 Douglas Av.', None, 'Brickhaven', 'MA', '58339', 'USA', None, 'Nelson', 'Allen', 'Small'),\n",
       " (1822, 10142, 49, 98.25, 1, 4814.25, '8/8/2003 0:00', 'Shipped', 3, 8, 2003, 'Vintage Cars', 88, 'S24_3151', 'Mini Gifts Distributors Ltd.', '4155551450', '5677 Strong St.', None, 'San Rafael', 'CA', '97562', 'USA', None, 'Nelson', 'Valarie', 'Medium'),\n",
       " (1847, 10148, 31, 73.62, 5, 2282.22, '9/11/2003 0:00', 'Shipped', 3, 9, 2003, 'Classic Cars', 85, 'S24_3191', \"Anna's Decorations, Ltd\", '02 9936 8555', '201 Miller Street', 'Level 15', 'North Sydney', 'NSW', '2060', 'Australia', 'APAC', \"O'Hara\", 'Anna', 'Small'),\n",
       " (1870, 10135, 27, 66.13, 6, 1785.51, '7/2/2003 0:00', 'Shipped', 3, 7, 2003, 'Classic Cars', 61, 'S24_3371', 'Mini Gifts Distributors Ltd.', '4155551450', '5677 Strong St.', None, 'San Rafael', 'CA', '97562', 'USA', None, 'Nelson', 'Valarie', 'Small'),\n",
       " (1871, 10147, 30, 68.58, 6, 2057.4, '9/5/2003 0:00', 'Shipped', 3, 9, 2003, 'Classic Cars', 61, 'S24_3371', 'Collectables For Less Inc.', '6175558555', '7825 Douglas Av.', None, 'Brickhaven', 'MA', '58339', 'USA', None, 'Nelson', 'Allen', 'Small'),\n",
       " (1897, 10143, 33, 77.59, 9, 2560.47, '8/10/2003 0:00', 'Shipped', 3, 8, 2003, 'Vintage Cars', 65, 'S24_3420', 'Mini Creations Ltd.', '5085559555', '4575 Hillside Dr.', None, 'New Bedford', 'MA', '50553', 'USA', None, 'Tam', 'Wing C', 'Small'),\n",
       " (1923, 10148, 27, 100.0, 7, 3469.5, '9/11/2003 0:00', 'Shipped', 3, 9, 2003, 'Classic Cars', 107, 'S24_3432', \"Anna's Decorations, Ltd\", '02 9936 8555', '201 Miller Street', 'Level 15', 'North Sydney', 'NSW', '2060', 'Australia', 'APAC', \"O'Hara\", 'Anna', 'Medium'),\n",
       " (1947, 10143, 23, 80.51, 14, 1851.73, '8/10/2003 0:00', 'Shipped', 3, 8, 2003, 'Vintage Cars', 83, 'S24_3816', 'Mini Creations Ltd.', '5085559555', '4575 Hillside Dr.', None, 'New Bedford', 'MA', '50553', 'USA', None, 'Tam', 'Wing C', 'Small'),\n",
       " (1972, 10135, 47, 100.0, 2, 6336.07, '7/2/2003 0:00', 'Shipped', 3, 7, 2003, 'Classic Cars', 140, 'S24_3856', 'Mini Gifts Distributors Ltd.', '4155551450', '5677 Strong St.', None, 'San Rafael', 'CA', '97562', 'USA', None, 'Nelson', 'Valarie', 'Medium'),\n",
       " (1973, 10147, 23, 100.0, 2, 2906.97, '9/5/2003 0:00', 'Shipped', 3, 9, 2003, 'Classic Cars', 140, 'S24_3856', 'Collectables For Less Inc.', '6175558555', '7825 Douglas Av.', None, 'Brickhaven', 'MA', '58339', 'USA', None, 'Nelson', 'Allen', 'Small'),\n",
       " (2000, 10143, 28, 66.19, 6, 1853.32, '8/10/2003 0:00', 'Shipped', 3, 8, 2003, 'Planes', 68, 'S24_3949', 'Mini Creations Ltd.', '5085559555', '4575 Hillside Dr.', None, 'New Bedford', 'MA', '50553', 'USA', None, 'Tam', 'Wing C', 'Small'),\n",
       " (2027, 10149, 26, 38.98, 9, 1013.48, '9/12/2003 0:00', 'Shipped', 3, 9, 2003, 'Vintage Cars', 41, 'S24_3969', 'Signal Collectibles Ltd.', '4155554312', '2793 Furth Circle', None, 'Brisbane', 'CA', '94217', 'USA', None, 'Taylor', 'Sue', 'Small'),\n",
       " (2049, 10141, 40, 94.62, 1, 3784.8, '8/1/2003 0:00', 'Shipped', 3, 8, 2003, 'Classic Cars', 118, 'S24_4048', 'Suominen Souveniers', '+358 9 8045 555', 'Software Engineering Center, SEC Oy', None, 'Espoo', None, 'FIN-02271', 'Finland', 'EMEA', 'Suominen', 'Kalle', 'Medium'),\n",
       " (2050, 10152, 23, 100.0, 3, 2802.09, '9/25/2003 0:00', 'Shipped', 3, 9, 2003, 'Classic Cars', 118, 'S24_4048', 'Australian Gift Network, Co', '61-7-3844-6555', '31 Duncan St. West End', None, 'South Brisbane', 'Queensland', '4101', 'Australia', 'APAC', 'Calaghan', 'Tony', 'Small'),\n",
       " (2075, 10139, 29, 100.0, 4, 3276.13, '7/16/2003 0:00', 'Shipped', 3, 7, 2003, 'Vintage Cars', 97, 'S24_4258', 'Souveniers And Things Co.', '+61 2 9495 8555', 'Monitor Money Building, 815 Pacific Hwy', 'Level 6', 'Chatswood', 'NSW', '2067', 'Australia', 'APAC', 'Huxley', 'Adrian', 'Medium'),\n",
       " (2076, 10149, 20, 90.57, 1, 1811.4, '9/12/2003 0:00', 'Shipped', 3, 9, 2003, 'Vintage Cars', 97, 'S24_4258', 'Signal Collectibles Ltd.', '4155554312', '2793 Furth Circle', None, 'Brisbane', 'CA', '94217', 'USA', None, 'Taylor', 'Sue', 'Small'),\n",
       " (2101, 10145, 33, 84.77, 15, 2797.41, '8/25/2003 0:00', 'Shipped', 3, 8, 2003, 'Planes', 72, 'S24_4278', 'Toys4GrownUps.com', '6265557265', '78934 Hillside Dr.', None, 'Pasadena', 'CA', '90003', 'USA', None, 'Young', 'Julie', 'Small'),\n",
       " (2124, 10135, 23, 87.31, 11, 2008.13, '7/2/2003 0:00', 'Shipped', 3, 7, 2003, 'Classic Cars', 80, 'S24_4620', 'Mini Gifts Distributors Ltd.', '4155551450', '5677 Strong St.', None, 'San Rafael', 'CA', '97562', 'USA', None, 'Nelson', 'Valarie', 'Small'),\n",
       " (2125, 10147, 31, 64.67, 11, 2004.77, '9/5/2003 0:00', 'Shipped', 3, 9, 2003, 'Classic Cars', 80, 'S24_4620', 'Collectables For Less Inc.', '6175558555', '7825 Douglas Av.', None, 'Brickhaven', 'MA', '58339', 'USA', None, 'Nelson', 'Allen', 'Small'),\n",
       " (2149, 10140, 26, 100.0, 3, 2829.58, '7/24/2003 0:00', 'Shipped', 3, 7, 2003, 'Trucks and Buses', 96, 'S32_1268', 'Technics Stores Inc.', '6505556809', '9408 Furth Circle', None, 'Burlingame', 'CA', '94217', 'USA', None, 'Hirano', 'Juri', 'Small'),\n",
       " (2150, 10151, 27, 100.0, 10, 3068.55, '9/21/2003 0:00', 'Shipped', 3, 9, 2003, 'Trucks and Buses', 96, 'S32_1268', 'Oulu Toy Supplies, Inc.', '981-443655', 'Torikatu 38', None, 'Oulu', None, '90110', 'Finland', 'EMEA', 'Koskitalo', 'Pirkko', 'Medium'),\n",
       " (2176, 10145, 33, 93.9, 12, 3098.7, '8/25/2003 0:00', 'Shipped', 3, 8, 2003, 'Motorcycles', 99, 'S32_1374', 'Toys4GrownUps.com', '6265557265', '78934 Hillside Dr.', None, 'Pasadena', 'CA', '90003', 'USA', None, 'Young', 'Julie', 'Medium'),\n",
       " (2199, 10135, 33, 40.23, 14, 1327.59, '7/2/2003 0:00', 'Shipped', 3, 7, 2003, 'Motorcycles', 40, 'S32_2206', 'Mini Gifts Distributors Ltd.', '4155551450', '5677 Strong St.', None, 'San Rafael', 'CA', '97562', 'USA', None, 'Nelson', 'Valarie', 'Small'),\n",
       " (2200, 10145, 31, 35.8, 1, 1109.8, '8/25/2003 0:00', 'Shipped', 3, 8, 2003, 'Motorcycles', 40, 'S32_2206', 'Toys4GrownUps.com', '6265557265', '78934 Hillside Dr.', None, 'Pasadena', 'CA', '90003', 'USA', None, 'Young', 'Julie', 'Small'),\n",
       " (2225, 10141, 24, 45.99, 7, 1103.76, '8/1/2003 0:00', 'Shipped', 3, 8, 2003, 'Trucks and Buses', 54, 'S32_2509', 'Suominen Souveniers', '+358 9 8045 555', 'Software Engineering Center, SEC Oy', None, 'Espoo', None, 'FIN-02271', 'Finland', 'EMEA', 'Suominen', 'Kalle', 'Small'),\n",
       " (2226, 10151, 41, 63.85, 5, 2617.85, '9/21/2003 0:00', 'Shipped', 3, 9, 2003, 'Trucks and Buses', 54, 'S32_2509', 'Oulu Toy Supplies, Inc.', '981-443655', 'Torikatu 38', None, 'Oulu', None, '90110', 'Finland', 'EMEA', 'Koskitalo', 'Pirkko', 'Small'),\n",
       " (2253, 10142, 42, 74.57, 16, 3131.94, '8/8/2003 0:00', 'Shipped', 3, 8, 2003, 'Trains', 62, 'S32_3207', 'Mini Gifts Distributors Ltd.', '4155551450', '5677 Strong St.', None, 'San Rafael', 'CA', '97562', 'USA', None, 'Nelson', 'Valarie', 'Medium'),\n",
       " (2254, 10152, 33, 50.95, 2, 1681.35, '9/25/2003 0:00', 'Shipped', 3, 9, 2003, 'Trains', 62, 'S32_3207', 'Australian Gift Network, Co', '61-7-3844-6555', '31 Duncan St. West End', None, 'South Brisbane', 'Queensland', '4101', 'Australia', 'APAC', 'Calaghan', 'Tony', 'Small'),\n",
       " (2279, 10140, 28, 60.76, 7, 1701.28, '7/24/2003 0:00', 'Shipped', 3, 7, 2003, 'Trucks and Buses', 64, 'S32_3522', 'Technics Stores Inc.', '6505556809', '9408 Furth Circle', None, 'Burlingame', 'CA', '94217', 'USA', None, 'Hirano', 'Juri', 'Small'),\n",
       " (2280, 10150, 49, 58.18, 4, 2850.82, '9/19/2003 0:00', 'Shipped', 3, 9, 2003, 'Trucks and Buses', 64, 'S32_3522', 'Dragon Souveniers, Ltd.', '+65 221 7555', 'Bronz Sok., Bronz Apt. 3/6 Tesvikiye', None, 'Singapore', None, '79903', 'Singapore', 'Japan', 'Natividad', 'Eric', 'Small'),\n",
       " (2306, 10144, 20, 81.86, 1, 1637.2, '8/13/2003 0:00', 'Shipped', 3, 8, 2003, 'Vintage Cars', 68, 'S32_4289', 'Royale Belge', '(071) 23 67 2555', 'Boulevard Tirou, 255', None, 'Charleroi', None, 'B-6000', 'Belgium', 'EMEA', 'Cartrain', 'Pascale', 'Small'),\n",
       " (2329, 10135, 30, 89.8, 17, 2694.0, '7/2/2003 0:00', 'Shipped', 3, 7, 2003, 'Motorcycles', 102, 'S32_4485', 'Mini Gifts Distributors Ltd.', '4155551450', '5677 Strong St.', None, 'San Rafael', 'CA', '97562', 'USA', None, 'Nelson', 'Valarie', 'Small'),\n",
       " (2330, 10145, 27, 100.0, 4, 3251.34, '8/25/2003 0:00', 'Shipped', 3, 8, 2003, 'Motorcycles', 102, 'S32_4485', 'Toys4GrownUps.com', '6265557265', '78934 Hillside Dr.', None, 'Pasadena', 'CA', '90003', 'USA', None, 'Young', 'Julie', 'Medium'),\n",
       " (2355, 10143, 34, 36.66, 1, 1246.44, '8/10/2003 0:00', 'Shipped', 3, 8, 2003, 'Vintage Cars', 43, 'S50_1341', 'Mini Creations Ltd.', '5085559555', '4575 Hillside Dr.', None, 'New Bedford', 'MA', '50553', 'USA', None, 'Tam', 'Wing C', 'Small'),\n",
       " (2381, 10141, 44, 100.0, 3, 5500.44, '8/1/2003 0:00', 'Shipped', 3, 8, 2003, 'Trucks and Buses', 115, 'S50_1392', 'Suominen Souveniers', '+358 9 8045 555', 'Software Engineering Center, SEC Oy', None, 'Espoo', None, 'FIN-02271', 'Finland', 'EMEA', 'Suominen', 'Kalle', 'Medium'),\n",
       " (2382, 10151, 26, 100.0, 1, 3220.1, '9/21/2003 0:00', 'Shipped', 3, 9, 2003, 'Trucks and Buses', 115, 'S50_1392', 'Oulu Toy Supplies, Inc.', '981-443655', 'Torikatu 38', None, 'Oulu', None, '90110', 'Finland', 'EMEA', 'Koskitalo', 'Pirkko', 'Medium'),\n",
       " (2409, 10142, 42, 49.79, 14, 2091.18, '8/8/2003 0:00', 'Shipped', 3, 8, 2003, 'Trains', 58, 'S50_1514', 'Mini Gifts Distributors Ltd.', '4155551450', '5677 Strong St.', None, 'San Rafael', 'CA', '97562', 'USA', None, 'Nelson', 'Valarie', 'Small'),\n",
       " (2410, 10153, 31, 57.41, 13, 1779.71, '9/28/2003 0:00', 'Shipped', 3, 9, 2003, 'Trains', 58, 'S50_1514', 'Euro Shopping Channel', '(91) 555 94 44', 'C/ Moralzarzal, 86', None, 'Madrid', None, '28034', 'Spain', 'EMEA', 'Freyre', 'Diego', 'Small'),\n",
       " (2434, 10135, 44, 96.0, 15, 4224.0, '7/2/2003 0:00', 'Shipped', 3, 7, 2003, 'Motorcycles', 81, 'S50_4713', 'Mini Gifts Distributors Ltd.', '4155551450', '5677 Strong St.', None, 'San Rafael', 'CA', '97562', 'USA', None, 'Nelson', 'Valarie', 'Medium'),\n",
       " (2435, 10145, 38, 81.36, 2, 3091.68, '8/25/2003 0:00', 'Shipped', 3, 8, 2003, 'Motorcycles', 81, 'S50_4713', 'Toys4GrownUps.com', '6265557265', '78934 Hillside Dr.', None, 'Pasadena', 'CA', '90003', 'USA', None, 'Young', 'Julie', 'Medium'),\n",
       " (2460, 10142, 41, 64.0, 2, 2624.0, '8/8/2003 0:00', 'Shipped', 3, 8, 2003, 'Ships', 66, 'S700_1138', 'Mini Gifts Distributors Ltd.', '4155551450', '5677 Strong St.', None, 'San Rafael', 'CA', '97562', 'USA', None, 'Nelson', 'Valarie', 'Small'),\n",
       " (2461, 10153, 43, 64.67, 1, 2780.81, '9/28/2003 0:00', 'Shipped', 3, 9, 2003, 'Ships', 66, 'S700_1138', 'Euro Shopping Channel', '(91) 555 94 44', 'C/ Moralzarzal, 86', None, 'Madrid', None, '28034', 'Spain', 'EMEA', 'Freyre', 'Diego', 'Small'),\n",
       " (2486, 10143, 36, 100.0, 2, 3945.96, '8/10/2003 0:00', 'Shipped', 3, 8, 2003, 'Planes', 91, 'S700_1691', 'Mini Creations Ltd.', '5085559555', '4575 Hillside Dr.', None, 'New Bedford', 'MA', '50553', 'USA', None, 'Tam', 'Wing C', 'Medium'),\n",
       " (2512, 10142, 43, 84.01, 9, 3612.43, '8/8/2003 0:00', 'Shipped', 3, 8, 2003, 'Ships', 86, 'S700_1938', 'Mini Gifts Distributors Ltd.', '4155551450', '5677 Strong St.', None, 'San Rafael', 'CA', '97562', 'USA', None, 'Nelson', 'Valarie', 'Medium'),\n",
       " (2513, 10153, 31, 87.48, 8, 2711.88, '9/28/2003 0:00', 'Shipped', 3, 9, 2003, 'Ships', 86, 'S700_1938', 'Euro Shopping Channel', '(91) 555 94 44', 'C/ Moralzarzal, 86', None, 'Madrid', None, '28034', 'Spain', 'EMEA', 'Freyre', 'Diego', 'Small'),\n",
       " (2537, 10143, 26, 100.0, 11, 2612.48, '8/10/2003 0:00', 'Shipped', 3, 8, 2003, 'Ships', 90, 'S700_2047', 'Mini Creations Ltd.', '5085559555', '4575 Hillside Dr.', None, 'New Bedford', 'MA', '50553', 'USA', None, 'Tam', 'Wing C', 'Small'),\n",
       " (2564, 10143, 26, 82.77, 4, 2152.02, '8/10/2003 0:00', 'Shipped', 3, 8, 2003, 'Planes', 99, 'S700_2466', 'Mini Creations Ltd.', '5085559555', '4575 Hillside Dr.', None, 'New Bedford', 'MA', '50553', 'USA', None, 'Tam', 'Wing C', 'Small'),\n",
       " (2591, 10143, 31, 85.29, 16, 2643.99, '8/10/2003 0:00', 'Shipped', 3, 8, 2003, 'Ships', 72, 'S700_2610', 'Mini Creations Ltd.', '5085559555', '4575 Hillside Dr.', None, 'New Bedford', 'MA', '50553', 'USA', None, 'Tam', 'Wing C', 'Small'),\n",
       " (2617, 10140, 36, 100.0, 6, 4114.8, '7/24/2003 0:00', 'Shipped', 3, 7, 2003, 'Classic Cars', 101, 'S700_2824', 'Technics Stores Inc.', '6505556809', '9408 Furth Circle', None, 'Burlingame', 'CA', '94217', 'USA', None, 'Hirano', 'Juri', 'Medium'),\n",
       " (2618, 10150, 20, 100.0, 3, 2104.0, '9/19/2003 0:00', 'Shipped', 3, 9, 2003, 'Classic Cars', 101, 'S700_2824', 'Dragon Souveniers, Ltd.', '+65 221 7555', 'Bronz Sok., Bronz Apt. 3/6 Tesvikiye', None, 'Singapore', None, '79903', 'Singapore', 'Japan', 'Natividad', 'Eric', 'Small'),\n",
       " (2644, 10145, 20, 100.0, 13, 2752.6, '8/25/2003 0:00', 'Shipped', 3, 8, 2003, 'Planes', 118, 'S700_2834', 'Toys4GrownUps.com', '6265557265', '78934 Hillside Dr.', None, 'Pasadena', 'CA', '90003', 'USA', None, 'Young', 'Julie', 'Small'),\n",
       " (2668, 10143, 28, 96.0, 3, 2688.0, '8/10/2003 0:00', 'Shipped', 3, 8, 2003, 'Planes', 80, 'S700_3167', 'Mini Creations Ltd.', '5085559555', '4575 Hillside Dr.', None, 'New Bedford', 'MA', '50553', 'USA', None, 'Tam', 'Wing C', 'Small'),\n",
       " (2694, 10142, 21, 100.0, 3, 2334.99, '8/8/2003 0:00', 'Shipped', 3, 8, 2003, 'Ships', 100, 'S700_3505', 'Mini Gifts Distributors Ltd.', '4155551450', '5677 Strong St.', None, 'San Rafael', 'CA', '97562', 'USA', None, 'Nelson', 'Valarie', 'Small'),\n",
       " (2695, 10153, 50, 88.15, 2, 4407.5, '9/28/2003 0:00', 'Shipped', 3, 9, 2003, 'Ships', 100, 'S700_3505', 'Euro Shopping Channel', '(91) 555 94 44', 'C/ Moralzarzal, 86', None, 'Madrid', None, '28034', 'Spain', 'EMEA', 'Freyre', 'Diego', 'Medium'),\n",
       " (2720, 10142, 38, 85.41, 4, 3245.58, '8/8/2003 0:00', 'Shipped', 3, 8, 2003, 'Ships', 99, 'S700_3962', 'Mini Gifts Distributors Ltd.', '4155551450', '5677 Strong St.', None, 'San Rafael', 'CA', '97562', 'USA', None, 'Nelson', 'Valarie', 'Medium'),\n",
       " (2721, 10153, 20, 100.0, 3, 2204.6, '9/28/2003 0:00', 'Shipped', 3, 9, 2003, 'Ships', 99, 'S700_3962', 'Euro Shopping Channel', '(91) 555 94 44', 'C/ Moralzarzal, 86', None, 'Madrid', None, '28034', 'Spain', 'EMEA', 'Freyre', 'Diego', 'Small'),\n",
       " (2746, 10143, 34, 85.87, 5, 2919.58, '8/10/2003 0:00', 'Shipped', 3, 8, 2003, 'Planes', 74, 'S700_4002', 'Mini Creations Ltd.', '5085559555', '4575 Hillside Dr.', None, 'New Bedford', 'MA', '50553', 'USA', None, 'Tam', 'Wing C', 'Small'),\n",
       " (2773, 10143, 37, 50.65, 10, 1874.05, '8/10/2003 0:00', 'Shipped', 3, 8, 2003, 'Planes', 49, 'S72_1253', 'Mini Creations Ltd.', '5085559555', '4575 Hillside Dr.', None, 'New Bedford', 'MA', '50553', 'USA', None, 'Tam', 'Wing C', 'Small'),\n",
       " (2800, 10142, 39, 44.23, 5, 1724.97, '8/8/2003 0:00', 'Shipped', 3, 8, 2003, 'Ships', 54, 'S72_3212', 'Mini Gifts Distributors Ltd.', '4155551450', '5677 Strong St.', None, 'San Rafael', 'CA', '97562', 'USA', None, 'Nelson', 'Valarie', 'Small'),\n",
       " (2801, 10153, 50, 60.06, 4, 3003.0, '9/28/2003 0:00', 'Shipped', 3, 9, 2003, 'Ships', 54, 'S72_3212', 'Euro Shopping Channel', '(91) 555 94 44', 'C/ Moralzarzal, 86', None, 'Madrid', None, '28034', 'Spain', 'EMEA', 'Freyre', 'Diego', 'Medium')]"
      ]
     },
     "execution_count": 47,
     "metadata": {},
     "output_type": "execute_result"
    }
   ],
   "source": [
    "result.all()"
   ]
  },
  {
   "cell_type": "code",
   "execution_count": null,
   "id": "39e5b677",
   "metadata": {},
   "outputs": [],
   "source": []
  }
 ],
 "metadata": {
  "kernelspec": {
   "display_name": "Python 3 (ipykernel)",
   "language": "python",
   "name": "python3"
  },
  "language_info": {
   "codemirror_mode": {
    "name": "ipython",
    "version": 3
   },
   "file_extension": ".py",
   "mimetype": "text/x-python",
   "name": "python",
   "nbconvert_exporter": "python",
   "pygments_lexer": "ipython3",
   "version": "3.11.2"
  }
 },
 "nbformat": 4,
 "nbformat_minor": 5
}
